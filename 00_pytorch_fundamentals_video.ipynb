{
  "nbformat": 4,
  "nbformat_minor": 0,
  "metadata": {
    "colab": {
      "provenance": [],
      "gpuType": "T4",
      "authorship_tag": "ABX9TyMkLjMiHxJXPOhHghV1D8JJ",
      "include_colab_link": true
    },
    "kernelspec": {
      "name": "python3",
      "display_name": "Python 3"
    },
    "language_info": {
      "name": "python"
    }
  },
  "cells": [
    {
      "cell_type": "markdown",
      "metadata": {
        "id": "view-in-github",
        "colab_type": "text"
      },
      "source": [
        "<a href=\"https://colab.research.google.com/github/pkro/pytorch_for_deep_learning/blob/main/00_pytorch_fundamentals_video.ipynb\" target=\"_parent\"><img src=\"https://colab.research.google.com/assets/colab-badge.svg\" alt=\"Open In Colab\"/></a>"
      ]
    },
    {
      "cell_type": "markdown",
      "source": [
        "## 00. PyTorch Fundamentals\n",
        "\n",
        "Resource notebook: https://www.learnpytorch.io/00_pytorch_fundamentals/"
      ],
      "metadata": {
        "id": "7DQL7V-ykzNj"
      }
    },
    {
      "cell_type": "code",
      "source": [
        "import torch\n",
        "import pandas as pd\n",
        "import numpy as np\n",
        "import matplotlib.pyplot as plt\n",
        "print(torch.__version__)\n"
      ],
      "metadata": {
        "colab": {
          "base_uri": "https://localhost:8080/"
        },
        "id": "Y8wS5XFTlool",
        "outputId": "3b4e31be-8fa0-4a28-fdc6-c3ab2b5c2a72"
      },
      "execution_count": 2,
      "outputs": [
        {
          "output_type": "stream",
          "name": "stdout",
          "text": [
            "2.0.1+cu118\n"
          ]
        }
      ]
    },
    {
      "cell_type": "code",
      "source": [
        "!nvidia-smi # works only if connected to a runtime with GPU, not needed for now"
      ],
      "metadata": {
        "colab": {
          "base_uri": "https://localhost:8080/"
        },
        "id": "IEh1lysLmRxx",
        "outputId": "5162ad5a-fe68-401d-b82f-61c01e7583c7"
      },
      "execution_count": 3,
      "outputs": [
        {
          "output_type": "stream",
          "name": "stdout",
          "text": [
            "/bin/bash: nvidia-smi: command not found\n"
          ]
        }
      ]
    },
    {
      "cell_type": "markdown",
      "source": [
        "## Introduction to Tensors\n",
        "\n",
        "### Creating tensors\n",
        "\n",
        "Pytorch tensors are created using [torch.Tensor](https://pytorch.org/docs/stable/tensors.html)"
      ],
      "metadata": {
        "id": "FLxuemFD9_g6"
      }
    },
    {
      "cell_type": "code",
      "source": [
        "# scalar\n",
        "\n",
        "scalar = torch.tensor(7)\n",
        "scalar"
      ],
      "metadata": {
        "colab": {
          "base_uri": "https://localhost:8080/"
        },
        "id": "9-unnIGo-LMP",
        "outputId": "b75dc55c-9d31-488f-92ab-0a939024638d"
      },
      "execution_count": 4,
      "outputs": [
        {
          "output_type": "execute_result",
          "data": {
            "text/plain": [
              "tensor(7)"
            ]
          },
          "metadata": {},
          "execution_count": 4
        }
      ]
    },
    {
      "cell_type": "code",
      "source": [
        "print(scalar.ndim) # 0 -> scalar is a 0-dimensional tensor with a dimension count of 0\n",
        "print(scalar.item()) # 7, get tensor back as python int\n",
        "print(scalar.shape)"
      ],
      "metadata": {
        "colab": {
          "base_uri": "https://localhost:8080/"
        },
        "id": "1VC4iqyi_VTO",
        "outputId": "e8235fc2-2a13-4f90-d97b-f5a49b4ad985"
      },
      "execution_count": 5,
      "outputs": [
        {
          "output_type": "stream",
          "name": "stdout",
          "text": [
            "0\n",
            "7\n",
            "torch.Size([])\n"
          ]
        }
      ]
    },
    {
      "cell_type": "code",
      "source": [
        "vector = torch.tensor([3,4]) # vector: magnitude and direction, indicated by x/y coordinates that represent a vector from [0,0] to [x,y]\n",
        "vector"
      ],
      "metadata": {
        "colab": {
          "base_uri": "https://localhost:8080/"
        },
        "id": "nzefCzW3_65M",
        "outputId": "25b86d03-469e-4bc2-8873-088b34de882d"
      },
      "execution_count": 6,
      "outputs": [
        {
          "output_type": "execute_result",
          "data": {
            "text/plain": [
              "tensor([3, 4])"
            ]
          },
          "metadata": {},
          "execution_count": 6
        }
      ]
    },
    {
      "cell_type": "code",
      "source": [
        "print(vector.ndim) # 1-dimensional tensor\n",
        "print(vector.shape) # torch.Size([2])\n",
        "# print(vector.item()) # error as a vector can't be converted to a scalar"
      ],
      "metadata": {
        "colab": {
          "base_uri": "https://localhost:8080/"
        },
        "id": "moNzt6P9AEDn",
        "outputId": "2eb91e99-1044-4537-bf0b-22b560b7131d"
      },
      "execution_count": 7,
      "outputs": [
        {
          "output_type": "stream",
          "name": "stdout",
          "text": [
            "1\n",
            "torch.Size([2])\n"
          ]
        }
      ]
    },
    {
      "cell_type": "code",
      "source": [
        "# matrices and tensors are usually written in all uppercase\n",
        "\n",
        "MATRIX = torch.tensor([\n",
        "                      [7,8],\n",
        "                      [9,10]\n",
        "                       ])\n",
        "\n",
        "MATRIX"
      ],
      "metadata": {
        "colab": {
          "base_uri": "https://localhost:8080/"
        },
        "id": "x8WolZTKAU42",
        "outputId": "e1572035-985c-414d-fe43-d1b38e910749"
      },
      "execution_count": 8,
      "outputs": [
        {
          "output_type": "execute_result",
          "data": {
            "text/plain": [
              "tensor([[ 7,  8],\n",
              "        [ 9, 10]])"
            ]
          },
          "metadata": {},
          "execution_count": 8
        }
      ]
    },
    {
      "cell_type": "code",
      "source": [
        "print(MATRIX.ndim) # 2-dimensional tensor\n",
        "print(MATRIX.shape) # torch.Size([2,2]) 2 by 2"
      ],
      "metadata": {
        "colab": {
          "base_uri": "https://localhost:8080/"
        },
        "id": "XJiOGcMQATIO",
        "outputId": "1335ea64-4b5a-4e27-d1f1-e618c50fb8cd"
      },
      "execution_count": 9,
      "outputs": [
        {
          "output_type": "stream",
          "name": "stdout",
          "text": [
            "2\n",
            "torch.Size([2, 2])\n"
          ]
        }
      ]
    },
    {
      "cell_type": "code",
      "source": [
        "TENSOR = torch.tensor([[[1,2,3],\n",
        "                        [4,5,6],\n",
        "                        [7,8,9]]])\n",
        "TENSOR"
      ],
      "metadata": {
        "colab": {
          "base_uri": "https://localhost:8080/"
        },
        "id": "uCqjb05YDPk0",
        "outputId": "d380573a-9987-4718-d9b7-8896f335e8fe"
      },
      "execution_count": 10,
      "outputs": [
        {
          "output_type": "execute_result",
          "data": {
            "text/plain": [
              "tensor([[[1, 2, 3],\n",
              "         [4, 5, 6],\n",
              "         [7, 8, 9]]])"
            ]
          },
          "metadata": {},
          "execution_count": 10
        }
      ]
    },
    {
      "cell_type": "code",
      "source": [
        "TENSOR[0]"
      ],
      "metadata": {
        "colab": {
          "base_uri": "https://localhost:8080/"
        },
        "id": "gDSKt_A1FQIY",
        "outputId": "fa283096-8bac-4c0b-924c-0beedb1916cb"
      },
      "execution_count": 11,
      "outputs": [
        {
          "output_type": "execute_result",
          "data": {
            "text/plain": [
              "tensor([[1, 2, 3],\n",
              "        [4, 5, 6],\n",
              "        [7, 8, 9]])"
            ]
          },
          "metadata": {},
          "execution_count": 11
        }
      ]
    },
    {
      "cell_type": "code",
      "source": [
        "TENSOR [0,1] # same as TENSOR[0][1]"
      ],
      "metadata": {
        "colab": {
          "base_uri": "https://localhost:8080/"
        },
        "id": "MTkq8s-OFXbZ",
        "outputId": "4815dca7-b54b-43ee-ed3a-adb7f3527e91"
      },
      "execution_count": 12,
      "outputs": [
        {
          "output_type": "execute_result",
          "data": {
            "text/plain": [
              "tensor([4, 5, 6])"
            ]
          },
          "metadata": {},
          "execution_count": 12
        }
      ]
    },
    {
      "cell_type": "code",
      "source": [
        "print(TENSOR.ndim) # 3-dimensional tensor\n",
        "print(TENSOR.shape) # torch.Size([1, 3, 3]) 1 * 3 * 3"
      ],
      "metadata": {
        "colab": {
          "base_uri": "https://localhost:8080/"
        },
        "id": "4nIKhp7fD0gG",
        "outputId": "656c1143-8fa1-42a4-9326-0cecd34323c8"
      },
      "execution_count": 13,
      "outputs": [
        {
          "output_type": "stream",
          "name": "stdout",
          "text": [
            "3\n",
            "torch.Size([1, 3, 3])\n"
          ]
        }
      ]
    },
    {
      "cell_type": "code",
      "source": [
        "TENSOR2 = torch.tensor([[[1,2,3],\n",
        "                        [4,5,6],\n",
        "                        [7,8,9]],\n",
        "                        [[11,12,13],\n",
        "                        [14,15,16],\n",
        "                        [17,18,19]]])\n",
        "TENSOR2"
      ],
      "metadata": {
        "colab": {
          "base_uri": "https://localhost:8080/"
        },
        "id": "4sdYXGLVEVxq",
        "outputId": "497e45b3-a439-425b-a79f-a4b11e35ca76"
      },
      "execution_count": 14,
      "outputs": [
        {
          "output_type": "execute_result",
          "data": {
            "text/plain": [
              "tensor([[[ 1,  2,  3],\n",
              "         [ 4,  5,  6],\n",
              "         [ 7,  8,  9]],\n",
              "\n",
              "        [[11, 12, 13],\n",
              "         [14, 15, 16],\n",
              "         [17, 18, 19]]])"
            ]
          },
          "metadata": {},
          "execution_count": 14
        }
      ]
    },
    {
      "cell_type": "code",
      "source": [
        "print(TENSOR2.ndim) # 3\n",
        "print(TENSOR2.shape) # [2,3,3]\n"
      ],
      "metadata": {
        "colab": {
          "base_uri": "https://localhost:8080/"
        },
        "id": "9hP4MylHFDZK",
        "outputId": "858267a4-51fb-4237-b8a9-ee05a0837040"
      },
      "execution_count": 15,
      "outputs": [
        {
          "output_type": "stream",
          "name": "stdout",
          "text": [
            "3\n",
            "torch.Size([2, 3, 3])\n"
          ]
        }
      ]
    },
    {
      "cell_type": "markdown",
      "source": [
        "### Random tensors\n",
        "\n",
        "Why random tensors?\n",
        "\n",
        "Random tensors are important because many neural networks start learning with tensors of random numbers and adjust those numbers during the learning / training process to better represent the data.\n",
        "\n",
        "Flow:\n",
        "\n",
        "- start with random numbers\n",
        "- look at data\n",
        "- updata random numbers\n",
        "- look at data\n",
        "- update random numbers\n",
        "- etc"
      ],
      "metadata": {
        "id": "36i8YxUyEwgY"
      }
    },
    {
      "cell_type": "code",
      "source": [
        "# create a random tensor of size (3,4)\n",
        "\n",
        "random_tensor = torch.rand(3,4) # number of items per dimension, torch.rand(1,3,4) would create a 3-dimensional tensor\n",
        "random_tensor"
      ],
      "metadata": {
        "colab": {
          "base_uri": "https://localhost:8080/"
        },
        "id": "BSOAo0fOHiJD",
        "outputId": "1e70fa31-05d4-496e-e294-eaf899030cd3"
      },
      "execution_count": 16,
      "outputs": [
        {
          "output_type": "execute_result",
          "data": {
            "text/plain": [
              "tensor([[0.8627, 0.2958, 0.9004, 0.8551],\n",
              "        [0.2754, 0.2031, 0.2747, 0.2703],\n",
              "        [0.0209, 0.2265, 0.9170, 0.3863]])"
            ]
          },
          "metadata": {},
          "execution_count": 16
        }
      ]
    },
    {
      "cell_type": "code",
      "source": [
        "random_tensor.ndim, random_tensor.shape"
      ],
      "metadata": {
        "colab": {
          "base_uri": "https://localhost:8080/"
        },
        "id": "6i9HthKfIWWX",
        "outputId": "423b9683-8eb3-463f-8c2c-019ee4e3d306"
      },
      "execution_count": 17,
      "outputs": [
        {
          "output_type": "execute_result",
          "data": {
            "text/plain": [
              "(2, torch.Size([3, 4]))"
            ]
          },
          "metadata": {},
          "execution_count": 17
        }
      ]
    },
    {
      "cell_type": "code",
      "source": [
        "# create a random tensor with a similar shape to an image tensor\n",
        "random_image_size_tensor = torch.rand(size=(224,224,3)) # height, width, color channels (R,G,B); sometimes color channels are at the beginning (e.g. 3,224,224)"
      ],
      "metadata": {
        "id": "R_qpcVzSJLsj"
      },
      "execution_count": 18,
      "outputs": []
    },
    {
      "cell_type": "code",
      "source": [
        "random_image_size_tensor.ndim, random_image_size_tensor.shape"
      ],
      "metadata": {
        "colab": {
          "base_uri": "https://localhost:8080/"
        },
        "id": "QqXTbjxTJbbW",
        "outputId": "8de11b55-d8b2-4dc1-c70b-9f1787c78f50"
      },
      "execution_count": 19,
      "outputs": [
        {
          "output_type": "execute_result",
          "data": {
            "text/plain": [
              "(3, torch.Size([224, 224, 3]))"
            ]
          },
          "metadata": {},
          "execution_count": 19
        }
      ]
    },
    {
      "cell_type": "markdown",
      "source": [
        "### zeroes and ones"
      ],
      "metadata": {
        "id": "CzYKmHxbivQ9"
      }
    },
    {
      "cell_type": "code",
      "source": [
        "zeros = torch.zeros(size=(3,4))\n",
        "zeros"
      ],
      "metadata": {
        "colab": {
          "base_uri": "https://localhost:8080/"
        },
        "id": "p8ehdVRMi2eT",
        "outputId": "483c574c-8704-4669-b191-28fcf9d83040"
      },
      "execution_count": 20,
      "outputs": [
        {
          "output_type": "execute_result",
          "data": {
            "text/plain": [
              "tensor([[0., 0., 0., 0.],\n",
              "        [0., 0., 0., 0.],\n",
              "        [0., 0., 0., 0.]])"
            ]
          },
          "metadata": {},
          "execution_count": 20
        }
      ]
    },
    {
      "cell_type": "code",
      "source": [
        "ones = torch.ones(size=(3,4))\n",
        "ones"
      ],
      "metadata": {
        "colab": {
          "base_uri": "https://localhost:8080/"
        },
        "id": "7kf6LV1LjE_q",
        "outputId": "064849c4-dba0-4169-fce6-976c50fd4637"
      },
      "execution_count": 21,
      "outputs": [
        {
          "output_type": "execute_result",
          "data": {
            "text/plain": [
              "tensor([[1., 1., 1., 1.],\n",
              "        [1., 1., 1., 1.],\n",
              "        [1., 1., 1., 1.]])"
            ]
          },
          "metadata": {},
          "execution_count": 21
        }
      ]
    },
    {
      "cell_type": "code",
      "source": [
        "ones.dtype # all tensors are float32 unless otherwise defined"
      ],
      "metadata": {
        "colab": {
          "base_uri": "https://localhost:8080/"
        },
        "id": "Xl-_X-dQjRBg",
        "outputId": "32a2cda7-3583-4035-93e3-263a0ae22973"
      },
      "execution_count": 22,
      "outputs": [
        {
          "output_type": "execute_result",
          "data": {
            "text/plain": [
              "torch.float32"
            ]
          },
          "metadata": {},
          "execution_count": 22
        }
      ]
    },
    {
      "cell_type": "markdown",
      "source": [
        "### create range of tensors and tensors-like"
      ],
      "metadata": {
        "id": "LACz9Sa3jYbx"
      }
    },
    {
      "cell_type": "code",
      "source": [
        "torch.range(0,10) # deprecated, produces range 0-10\n",
        "torch.arange(0,10) # works like python range, creates range 0-9 (10 is exclusive)"
      ],
      "metadata": {
        "colab": {
          "base_uri": "https://localhost:8080/"
        },
        "id": "7T4DT9GEkKAF",
        "outputId": "74321914-ed54-4c36-a6dc-2a53679ac567"
      },
      "execution_count": 23,
      "outputs": [
        {
          "output_type": "stream",
          "name": "stderr",
          "text": [
            "<ipython-input-23-f633905e99fc>:1: UserWarning: torch.range is deprecated and will be removed in a future release because its behavior is inconsistent with Python's range builtin. Instead, use torch.arange, which produces values in [start, end).\n",
            "  torch.range(0,10) # deprecated, produces range 0-10\n"
          ]
        },
        {
          "output_type": "execute_result",
          "data": {
            "text/plain": [
              "tensor([0, 1, 2, 3, 4, 5, 6, 7, 8, 9])"
            ]
          },
          "metadata": {},
          "execution_count": 23
        }
      ]
    },
    {
      "cell_type": "code",
      "source": [
        "one_to_ten = torch.arange(1,11)\n",
        "one_to_ten"
      ],
      "metadata": {
        "colab": {
          "base_uri": "https://localhost:8080/"
        },
        "id": "DeSQwQ9-kraZ",
        "outputId": "9627c3e8-1b23-498f-b299-de228a673cba"
      },
      "execution_count": 24,
      "outputs": [
        {
          "output_type": "execute_result",
          "data": {
            "text/plain": [
              "tensor([ 1,  2,  3,  4,  5,  6,  7,  8,  9, 10])"
            ]
          },
          "metadata": {},
          "execution_count": 24
        }
      ]
    },
    {
      "cell_type": "code",
      "source": [
        "zero_to_1000_step_50 = torch.arange(0,1001,50)\n",
        "zero_to_1000_step_50"
      ],
      "metadata": {
        "colab": {
          "base_uri": "https://localhost:8080/"
        },
        "id": "JIeZGCMsk16Q",
        "outputId": "be9df631-8302-40ad-f271-15440f0435fc"
      },
      "execution_count": 25,
      "outputs": [
        {
          "output_type": "execute_result",
          "data": {
            "text/plain": [
              "tensor([   0,   50,  100,  150,  200,  250,  300,  350,  400,  450,  500,  550,\n",
              "         600,  650,  700,  750,  800,  850,  900,  950, 1000])"
            ]
          },
          "metadata": {},
          "execution_count": 25
        }
      ]
    },
    {
      "cell_type": "code",
      "source": [
        "# same as\n",
        "torch.arange(start=0, end=1001, step=50)"
      ],
      "metadata": {
        "colab": {
          "base_uri": "https://localhost:8080/"
        },
        "id": "X0zCCfxjlED_",
        "outputId": "891309b4-0459-4afb-ef1c-15ce203a15a0"
      },
      "execution_count": 26,
      "outputs": [
        {
          "output_type": "execute_result",
          "data": {
            "text/plain": [
              "tensor([   0,   50,  100,  150,  200,  250,  300,  350,  400,  450,  500,  550,\n",
              "         600,  650,  700,  750,  800,  850,  900,  950, 1000])"
            ]
          },
          "metadata": {},
          "execution_count": 26
        }
      ]
    },
    {
      "cell_type": "code",
      "source": [
        "# tensors like\n",
        "# zeros all values of the input tensor / returns a tensor in the same shape as the input tensor with all values zerod\n",
        "ten_zeros = torch.zeros_like(one_to_ten)\n",
        "ten_zeros"
      ],
      "metadata": {
        "colab": {
          "base_uri": "https://localhost:8080/"
        },
        "id": "VqgX5JkJlSnW",
        "outputId": "2a33a4ba-3fa1-4106-9308-36922fba0d56"
      },
      "execution_count": 27,
      "outputs": [
        {
          "output_type": "execute_result",
          "data": {
            "text/plain": [
              "tensor([0, 0, 0, 0, 0, 0, 0, 0, 0, 0])"
            ]
          },
          "metadata": {},
          "execution_count": 27
        }
      ]
    },
    {
      "cell_type": "markdown",
      "source": [
        "## Tensor datatypes\n",
        "\n",
        "Tensor datatypes is one of the 3 big error sources when working with pytorch & deep learning:\n",
        "\n",
        "1. Tensor is not the right datatype\n",
        "2. Tensor is not the right shape\n",
        "3. tensor is not the right device"
      ],
      "metadata": {
        "id": "-GPDjkGLmURM"
      }
    },
    {
      "cell_type": "code",
      "source": [
        "float_32_tensor = torch.tensor([3.0,6.0,9.0],\n",
        "                               dtype=None, # specify datatype (defaults to float32 if floats are given)\n",
        "                               device=\"cpu\", # what device is the tensor on; \"cuda\" for gpu\n",
        "                               requires_grad=False) # whethter to track gradients in tensor operations or not\n",
        "float_32_tensor.dtype"
      ],
      "metadata": {
        "colab": {
          "base_uri": "https://localhost:8080/"
        },
        "id": "8jP6UH9CmXH5",
        "outputId": "96d7ed2b-484b-4b30-d73f-9515cb5e1388"
      },
      "execution_count": 28,
      "outputs": [
        {
          "output_type": "execute_result",
          "data": {
            "text/plain": [
              "torch.float32"
            ]
          },
          "metadata": {},
          "execution_count": 28
        }
      ]
    },
    {
      "cell_type": "code",
      "source": [
        "int64_tensor = torch.tensor([3,6,9]) # note we use ints, so the tensor will default to int64\n",
        "int64_tensor.dtype"
      ],
      "metadata": {
        "colab": {
          "base_uri": "https://localhost:8080/"
        },
        "id": "B85KZ9TBo-zR",
        "outputId": "f21fb59d-2b0c-424e-ad9d-33976b724e99"
      },
      "execution_count": 29,
      "outputs": [
        {
          "output_type": "execute_result",
          "data": {
            "text/plain": [
              "torch.int64"
            ]
          },
          "metadata": {},
          "execution_count": 29
        }
      ]
    },
    {
      "cell_type": "code",
      "source": [
        "# convert tensor\n",
        "float_16_tensor = float_32_tensor.type(torch.float16)\n",
        "float_16_tensor"
      ],
      "metadata": {
        "colab": {
          "base_uri": "https://localhost:8080/"
        },
        "id": "9pmSFSrwopDK",
        "outputId": "9ef123ac-d674-456d-f3f2-e979d82b18ea"
      },
      "execution_count": 30,
      "outputs": [
        {
          "output_type": "execute_result",
          "data": {
            "text/plain": [
              "tensor([3., 6., 9.], dtype=torch.float16)"
            ]
          },
          "metadata": {},
          "execution_count": 30
        }
      ]
    },
    {
      "cell_type": "code",
      "source": [
        "# multiplication between tensors of different datatype possible,\n",
        "# output is the lower precission datatype\n",
        "float_16_tensor * float_32_tensor"
      ],
      "metadata": {
        "colab": {
          "base_uri": "https://localhost:8080/"
        },
        "id": "Jqm86wBQpmA5",
        "outputId": "f0da61b4-55ef-4a55-8bb9-ccb830de4818"
      },
      "execution_count": 31,
      "outputs": [
        {
          "output_type": "execute_result",
          "data": {
            "text/plain": [
              "tensor([ 9., 36., 81.])"
            ]
          },
          "metadata": {},
          "execution_count": 31
        }
      ]
    },
    {
      "cell_type": "code",
      "source": [
        "(int64_tensor * float_32_tensor).dtype # float32 as multiplying int * float doesn't have precission loss"
      ],
      "metadata": {
        "colab": {
          "base_uri": "https://localhost:8080/"
        },
        "id": "hVWjSFqtqAfv",
        "outputId": "ddd87d08-44ea-424c-8b30-6afb52954f8e"
      },
      "execution_count": 32,
      "outputs": [
        {
          "output_type": "execute_result",
          "data": {
            "text/plain": [
              "torch.float32"
            ]
          },
          "metadata": {},
          "execution_count": 32
        }
      ]
    },
    {
      "cell_type": "code",
      "source": [
        "(torch.tensor([1,2,3], dtype=torch.int32) * torch.tensor([4,5,6], dtype=torch.float32)).dtype # float32, same as above"
      ],
      "metadata": {
        "colab": {
          "base_uri": "https://localhost:8080/"
        },
        "id": "mA6euVolqW12",
        "outputId": "865028b1-d626-4475-d8b6-c0ffa512696d"
      },
      "execution_count": 33,
      "outputs": [
        {
          "output_type": "execute_result",
          "data": {
            "text/plain": [
              "torch.float32"
            ]
          },
          "metadata": {},
          "execution_count": 33
        }
      ]
    },
    {
      "cell_type": "markdown",
      "source": [
        "### getting information from tensors\n",
        "\n",
        "1. datatype (tensor.dtype)\n",
        "2. shape (tensor.shape, tensor.size())\n",
        "3. device (tensor.device)\n"
      ],
      "metadata": {
        "id": "zTnElbPArnWh"
      }
    },
    {
      "cell_type": "code",
      "source": [
        "some_tensor = torch.rand(3,4)\n",
        "\n",
        "def tensor_info(tensor):\n",
        "  print(f\"shape: {tensor.shape}, dimensions: {tensor.ndim}\") # no str(tensor.shape) needed in formatted strings / string literals\n",
        "  print(f\"dtype: {tensor.dtype}\")\n",
        "  print(f\"device: {tensor.device}\")\n",
        "\n",
        "tensor_info(some_tensor)\n"
      ],
      "metadata": {
        "colab": {
          "base_uri": "https://localhost:8080/"
        },
        "id": "0N35FTmAr9uj",
        "outputId": "0e41a141-1c23-4a2c-840e-a4c8b489f597"
      },
      "execution_count": 34,
      "outputs": [
        {
          "output_type": "stream",
          "name": "stdout",
          "text": [
            "shape: torch.Size([3, 4]), dimensions: 2\n",
            "dtype: torch.float32\n",
            "device: cpu\n"
          ]
        }
      ]
    },
    {
      "cell_type": "markdown",
      "source": [
        "### manipulating tensors (tensor operations)\n",
        "\n",
        "- addition\n",
        "- subtraction\n",
        "- division\n",
        "- multiplication (element-wise)\n",
        "- matrix multiplication"
      ],
      "metadata": {
        "id": "GUUfm3XCVwJh"
      }
    },
    {
      "cell_type": "code",
      "source": [
        "tensor = torch.tensor([1,2,3])\n",
        "tensor + 10 # adds 10 to each element"
      ],
      "metadata": {
        "colab": {
          "base_uri": "https://localhost:8080/"
        },
        "id": "FdlnBVTxWI7m",
        "outputId": "e6dc376f-bc47-4e74-c8af-39b39c7eb8e5"
      },
      "execution_count": 35,
      "outputs": [
        {
          "output_type": "execute_result",
          "data": {
            "text/plain": [
              "tensor([11, 12, 13])"
            ]
          },
          "metadata": {},
          "execution_count": 35
        }
      ]
    },
    {
      "cell_type": "code",
      "source": [
        "tensor * 10 # multiplies each element by 10"
      ],
      "metadata": {
        "colab": {
          "base_uri": "https://localhost:8080/"
        },
        "id": "OigUsJN7WY4M",
        "outputId": "f0a8cdf3-a122-46fd-cbb9-f70703e9e699"
      },
      "execution_count": 36,
      "outputs": [
        {
          "output_type": "execute_result",
          "data": {
            "text/plain": [
              "tensor([10, 20, 30])"
            ]
          },
          "metadata": {},
          "execution_count": 36
        }
      ]
    },
    {
      "cell_type": "code",
      "source": [
        "print(tensor - 10); # doesn't print if just use \"tensor - 10\" - why?"
      ],
      "metadata": {
        "colab": {
          "base_uri": "https://localhost:8080/"
        },
        "id": "rTCXXld1WnY8",
        "outputId": "9e25f1c4-b767-4a01-904f-f417d827bbf8"
      },
      "execution_count": 37,
      "outputs": [
        {
          "output_type": "stream",
          "name": "stdout",
          "text": [
            "tensor([-9, -8, -7])\n"
          ]
        }
      ]
    },
    {
      "cell_type": "code",
      "source": [
        "# using pytorch in-built functions\n",
        "torch.mul(tensor, 10), torch.add(tensor, 5), torch.sub(tensor, 20)"
      ],
      "metadata": {
        "colab": {
          "base_uri": "https://localhost:8080/"
        },
        "id": "l14gC45GW7dx",
        "outputId": "8d67c000-4201-4d33-cce1-ea9741d56e14"
      },
      "execution_count": 38,
      "outputs": [
        {
          "output_type": "execute_result",
          "data": {
            "text/plain": [
              "(tensor([10, 20, 30]), tensor([6, 7, 8]), tensor([-19, -18, -17]))"
            ]
          },
          "metadata": {},
          "execution_count": 38
        }
      ]
    },
    {
      "cell_type": "markdown",
      "source": [
        "In general, the course recommends to use the standard python operators instead of the torch methods for better readability.\n",
        "\n",
        "In general, the torch methods are faster for more complex operations such as matrix multiplication (matmul)\n"
      ],
      "metadata": {
        "id": "FJgAg2T3XQB4"
      }
    },
    {
      "cell_type": "markdown",
      "source": [
        "### Matrix multiplication\n",
        "\n",
        "[how to multiply matrices](https://www.mathsisfun.com/algebra/matrix-multiplying.html)\n",
        "\n",
        "[visualization](http://matrixmultiplication.xyz/)\n",
        "\n",
        "Two main ways of performing multiplication in neural networks and deep learning:\n",
        "\n",
        "1. Element-wise multiplication / scalare multiplication\n",
        "  - multiply by single number: just multiply each matrix element with that number\n",
        "2. Matrix multiplication / dot product (most common operation in neural networks)\n",
        "  - symbol: **&middot;** (just a fat dot), e.g. \"a **&middot;** b\"\n",
        "  - pytorch function: `torch.matmul(t1, t2)` or `torch.mm(...)`, python operator: `@`, e.g. `t1 @ t2`\n",
        "  - **inner dimensions** must match:\n",
        "    - (3, **2**) @ (**3**, 2) will NOT work\n",
        "    - (2, **3**) @ (**3**, 2) WILL work\n",
        "    - (3, **2**) @ (**2**, 3) WILL work\n",
        "  - the resulting matrix has the shape of the **outer dimensions**  \n",
        "    - (**2**, 3) @ (3, **2**) -> resulting shape: (2, 2)\n",
        "    - (**3**, 2) @ (2, **3**) -> resulting shape: (3, 3)\n",
        "    - torch.rand(7,10) @ torch.rand(10,2) -> shape: (7,2)\n",
        "  - order counts!\n",
        "  - dot product of rows and columns\n",
        "  - rows of first matrix are multiplied by columns of second matrix\n",
        "\n"
      ],
      "metadata": {
        "id": "H0xyMIrGXjN_"
      }
    },
    {
      "cell_type": "code",
      "source": [
        "(torch.rand(7,10) @ torch.rand(10,2)).shape"
      ],
      "metadata": {
        "colab": {
          "base_uri": "https://localhost:8080/"
        },
        "id": "_ANEwZTkqeHv",
        "outputId": "92645407-aabf-4bfd-c010-a279da6af539"
      },
      "execution_count": 39,
      "outputs": [
        {
          "output_type": "execute_result",
          "data": {
            "text/plain": [
              "torch.Size([7, 2])"
            ]
          },
          "metadata": {},
          "execution_count": 39
        }
      ]
    },
    {
      "cell_type": "code",
      "source": [
        "# element-wise multiplication\n",
        "torch.tensor([[1,2,3], [4,5,6]]) * torch.tensor([[1,2,3], [4,5,6]])"
      ],
      "metadata": {
        "colab": {
          "base_uri": "https://localhost:8080/"
        },
        "id": "D6HdPiWfgQQ7",
        "outputId": "547497ef-c1c4-4d40-ab31-45dbcb4103d0"
      },
      "execution_count": 40,
      "outputs": [
        {
          "output_type": "execute_result",
          "data": {
            "text/plain": [
              "tensor([[ 1,  4,  9],\n",
              "        [16, 25, 36]])"
            ]
          },
          "metadata": {},
          "execution_count": 40
        }
      ]
    },
    {
      "cell_type": "code",
      "source": [
        "# matrix multiplication with vectors\n",
        "# tensor from before is a [1,2,3]\n",
        "torch.matmul(tensor, tensor) # 1*1 + 2*2 + 3*3"
      ],
      "metadata": {
        "colab": {
          "base_uri": "https://localhost:8080/"
        },
        "id": "9SyA4VFPgxfB",
        "outputId": "7eea7745-195e-4d21-b967-93b3d4ad13b1"
      },
      "execution_count": 41,
      "outputs": [
        {
          "output_type": "execute_result",
          "data": {
            "text/plain": [
              "tensor(14)"
            ]
          },
          "metadata": {},
          "execution_count": 41
        }
      ]
    },
    {
      "cell_type": "code",
      "source": [
        "# dot product / matrix multiplication\n",
        "torch.matmul(torch.tensor(\n",
        "    [ [1,2,3],\n",
        "      [4,5,6]\n",
        "    ]),torch.tensor(\n",
        "        [\n",
        "          [7,8],\n",
        "          [9,10],\n",
        "          [11,12]\n",
        "        ]))"
      ],
      "metadata": {
        "colab": {
          "base_uri": "https://localhost:8080/"
        },
        "id": "_BnC29Cre6xP",
        "outputId": "a79d226f-d98b-493d-af91-dbeb98f70b09"
      },
      "execution_count": 42,
      "outputs": [
        {
          "output_type": "execute_result",
          "data": {
            "text/plain": [
              "tensor([[ 58,  64],\n",
              "        [139, 154]])"
            ]
          },
          "metadata": {},
          "execution_count": 42
        }
      ]
    },
    {
      "cell_type": "markdown",
      "source": [
        "### One of the most common errors in deep learning: shape errors\n",
        "\n"
      ],
      "metadata": {
        "id": "I0aGpLjJoli1"
      }
    },
    {
      "cell_type": "code",
      "source": [
        "# shapes for matrix multiplication\n",
        "tensor_A = torch.tensor([[1,2],\n",
        "                         [3,4],\n",
        "                         [5,6]])\n",
        "\n",
        "tensor_B = torch.tensor([[7,10],\n",
        "                         [8,11],\n",
        "                         [9,12]])\n",
        "\n",
        "tensor_info(tensor_A)\n",
        "tensor_info(tensor_B)\n",
        "\n",
        "try:\n",
        "  torch.matmul(tensor_A, tensor_B) # error\n",
        "except RuntimeError:\n",
        "  print(\"can't multiply tensors: incompatible shapes\")\n",
        "\n"
      ],
      "metadata": {
        "colab": {
          "base_uri": "https://localhost:8080/"
        },
        "id": "6R7BCQQVqzER",
        "outputId": "426c9a8f-e4dc-46c6-9f01-d756872ce93c"
      },
      "execution_count": 56,
      "outputs": [
        {
          "output_type": "stream",
          "name": "stdout",
          "text": [
            "shape: torch.Size([3, 2]), dimensions: 2\n",
            "dtype: torch.int64\n",
            "device: cpu\n",
            "shape: torch.Size([3, 2]), dimensions: 2\n",
            "dtype: torch.int64\n",
            "device: cpu\n",
            "can't multiply tensors: incompatible shapes\n"
          ]
        }
      ]
    },
    {
      "cell_type": "markdown",
      "source": [
        "To fix the error, we can transpose one of our tensors so that the outer dimensions match.\n",
        "\n",
        "Transpose switches the axes or dimensions of a given tensor."
      ],
      "metadata": {
        "id": "KlgAxP7GHBQu"
      }
    },
    {
      "cell_type": "code",
      "source": [
        "tensor_info(tensor_B)\n",
        "print(tensor_B)\n",
        "tensor_info(tensor_B.T) # transposed\n",
        "print(tensor_B.T)\n"
      ],
      "metadata": {
        "colab": {
          "base_uri": "https://localhost:8080/"
        },
        "id": "lm90yEpzD_ZR",
        "outputId": "b80c188f-04f1-4984-9e0c-469f76bc7b2c"
      },
      "execution_count": 58,
      "outputs": [
        {
          "output_type": "stream",
          "name": "stdout",
          "text": [
            "shape: torch.Size([3, 2]), dimensions: 2\n",
            "dtype: torch.int64\n",
            "device: cpu\n",
            "tensor([[ 7, 10],\n",
            "        [ 8, 11],\n",
            "        [ 9, 12]])\n",
            "shape: torch.Size([2, 3]), dimensions: 2\n",
            "dtype: torch.int64\n",
            "device: cpu\n",
            "tensor([[ 7,  8,  9],\n",
            "        [10, 11, 12]])\n"
          ]
        }
      ]
    }
  ]
}