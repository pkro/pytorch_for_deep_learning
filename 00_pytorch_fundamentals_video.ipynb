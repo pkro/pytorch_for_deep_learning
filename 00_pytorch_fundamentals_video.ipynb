{
  "nbformat": 4,
  "nbformat_minor": 0,
  "metadata": {
    "colab": {
      "provenance": [],
      "gpuType": "T4",
      "toc_visible": true,
      "authorship_tag": "ABX9TyNR56sgnzB/1vZ83Lyn5qC4",
      "include_colab_link": true
    },
    "kernelspec": {
      "name": "python3",
      "display_name": "Python 3"
    },
    "language_info": {
      "name": "python"
    },
    "accelerator": "GPU"
  },
  "cells": [
    {
      "cell_type": "markdown",
      "metadata": {
        "id": "view-in-github",
        "colab_type": "text"
      },
      "source": [
        "<a href=\"https://colab.research.google.com/github/pkro/pytorch_for_deep_learning/blob/main/00_pytorch_fundamentals_video.ipynb\" target=\"_parent\"><img src=\"https://colab.research.google.com/assets/colab-badge.svg\" alt=\"Open In Colab\"/></a>"
      ]
    },
    {
      "cell_type": "markdown",
      "source": [
        "## 00. PyTorch Fundamentals\n",
        "\n",
        "Resource notebook: https://www.learnpytorch.io/00_pytorch_fundamentals/"
      ],
      "metadata": {
        "id": "7DQL7V-ykzNj"
      }
    },
    {
      "cell_type": "code",
      "source": [
        "import torch\n",
        "import pandas as pd\n",
        "import numpy as np\n",
        "import matplotlib.pyplot as plt\n",
        "print(torch.__version__)\n"
      ],
      "metadata": {
        "colab": {
          "base_uri": "https://localhost:8080/"
        },
        "id": "Y8wS5XFTlool",
        "outputId": "67ba8df0-4afa-4a0f-e53c-464367cdb3a4"
      },
      "execution_count": 1,
      "outputs": [
        {
          "output_type": "stream",
          "name": "stdout",
          "text": [
            "2.0.1+cu118\n"
          ]
        }
      ]
    },
    {
      "cell_type": "code",
      "source": [
        "!nvidia-smi # works only if connected to a runtime with GPU"
      ],
      "metadata": {
        "colab": {
          "base_uri": "https://localhost:8080/"
        },
        "id": "IEh1lysLmRxx",
        "outputId": "776f5004-b65d-4668-94e1-40faa9f5d9a5"
      },
      "execution_count": 2,
      "outputs": [
        {
          "output_type": "stream",
          "name": "stdout",
          "text": [
            "Mon Jul  3 07:30:02 2023       \n",
            "+-----------------------------------------------------------------------------+\n",
            "| NVIDIA-SMI 525.85.12    Driver Version: 525.85.12    CUDA Version: 12.0     |\n",
            "|-------------------------------+----------------------+----------------------+\n",
            "| GPU  Name        Persistence-M| Bus-Id        Disp.A | Volatile Uncorr. ECC |\n",
            "| Fan  Temp  Perf  Pwr:Usage/Cap|         Memory-Usage | GPU-Util  Compute M. |\n",
            "|                               |                      |               MIG M. |\n",
            "|===============================+======================+======================|\n",
            "|   0  Tesla T4            Off  | 00000000:00:04.0 Off |                    0 |\n",
            "| N/A   52C    P8    10W /  70W |      0MiB / 15360MiB |      0%      Default |\n",
            "|                               |                      |                  N/A |\n",
            "+-------------------------------+----------------------+----------------------+\n",
            "                                                                               \n",
            "+-----------------------------------------------------------------------------+\n",
            "| Processes:                                                                  |\n",
            "|  GPU   GI   CI        PID   Type   Process name                  GPU Memory |\n",
            "|        ID   ID                                                   Usage      |\n",
            "|=============================================================================|\n",
            "|  No running processes found                                                 |\n",
            "+-----------------------------------------------------------------------------+\n"
          ]
        }
      ]
    },
    {
      "cell_type": "markdown",
      "source": [
        "## Introduction to Tensors\n",
        "\n",
        "### Creating tensors\n",
        "\n",
        "Pytorch tensors are created using [torch.Tensor](https://pytorch.org/docs/stable/tensors.html)"
      ],
      "metadata": {
        "id": "FLxuemFD9_g6"
      }
    },
    {
      "cell_type": "code",
      "source": [
        "# scalar\n",
        "\n",
        "scalar = torch.tensor(7)\n",
        "scalar"
      ],
      "metadata": {
        "colab": {
          "base_uri": "https://localhost:8080/"
        },
        "id": "9-unnIGo-LMP",
        "outputId": "cd1f7407-5106-4bed-83a5-1118a465ab48"
      },
      "execution_count": 3,
      "outputs": [
        {
          "output_type": "execute_result",
          "data": {
            "text/plain": [
              "tensor(7)"
            ]
          },
          "metadata": {},
          "execution_count": 3
        }
      ]
    },
    {
      "cell_type": "code",
      "source": [
        "print(scalar.ndim) # 0 -> scalar is a 0-dimensional tensor with a dimension count of 0\n",
        "print(scalar.item()) # 7, get tensor back as python int\n",
        "print(scalar.shape)"
      ],
      "metadata": {
        "colab": {
          "base_uri": "https://localhost:8080/"
        },
        "id": "1VC4iqyi_VTO",
        "outputId": "dabf6c56-8cde-4b16-e55c-5b75cbd0519d"
      },
      "execution_count": 4,
      "outputs": [
        {
          "output_type": "stream",
          "name": "stdout",
          "text": [
            "0\n",
            "7\n",
            "torch.Size([])\n"
          ]
        }
      ]
    },
    {
      "cell_type": "code",
      "source": [
        "vector = torch.tensor([3,4]) # vector: magnitude and direction, indicated by x/y coordinates that represent a vector from [0,0] to [x,y]\n",
        "vector"
      ],
      "metadata": {
        "colab": {
          "base_uri": "https://localhost:8080/"
        },
        "id": "nzefCzW3_65M",
        "outputId": "b60a4bb2-23ce-4f06-d75e-71c73a16785e"
      },
      "execution_count": 5,
      "outputs": [
        {
          "output_type": "execute_result",
          "data": {
            "text/plain": [
              "tensor([3, 4])"
            ]
          },
          "metadata": {},
          "execution_count": 5
        }
      ]
    },
    {
      "cell_type": "code",
      "source": [
        "print(vector.ndim) # 1-dimensional tensor\n",
        "print(vector.shape) # torch.Size([2])\n",
        "# print(vector.item()) # error as a vector can't be converted to a scalar"
      ],
      "metadata": {
        "colab": {
          "base_uri": "https://localhost:8080/"
        },
        "id": "moNzt6P9AEDn",
        "outputId": "919cd03b-7677-4bc1-8455-d1d16db4cea2"
      },
      "execution_count": 6,
      "outputs": [
        {
          "output_type": "stream",
          "name": "stdout",
          "text": [
            "1\n",
            "torch.Size([2])\n"
          ]
        }
      ]
    },
    {
      "cell_type": "code",
      "source": [
        "# matrices and tensors are usually written in all uppercase\n",
        "\n",
        "MATRIX = torch.tensor([\n",
        "                      [7,8],\n",
        "                      [9,10]\n",
        "                       ])\n",
        "\n",
        "MATRIX"
      ],
      "metadata": {
        "colab": {
          "base_uri": "https://localhost:8080/"
        },
        "id": "x8WolZTKAU42",
        "outputId": "c55570bc-e02d-40ea-ad06-b8b17ef5b216"
      },
      "execution_count": 7,
      "outputs": [
        {
          "output_type": "execute_result",
          "data": {
            "text/plain": [
              "tensor([[ 7,  8],\n",
              "        [ 9, 10]])"
            ]
          },
          "metadata": {},
          "execution_count": 7
        }
      ]
    },
    {
      "cell_type": "code",
      "source": [
        "print(MATRIX.ndim) # 2-dimensional tensor\n",
        "print(MATRIX.shape) # torch.Size([2,2]) 2 by 2"
      ],
      "metadata": {
        "colab": {
          "base_uri": "https://localhost:8080/"
        },
        "id": "XJiOGcMQATIO",
        "outputId": "553edd98-035e-4c97-99ba-5940a1eb5483"
      },
      "execution_count": 8,
      "outputs": [
        {
          "output_type": "stream",
          "name": "stdout",
          "text": [
            "2\n",
            "torch.Size([2, 2])\n"
          ]
        }
      ]
    },
    {
      "cell_type": "code",
      "source": [
        "TENSOR = torch.tensor([[[1,2,3],\n",
        "                        [4,5,6],\n",
        "                        [7,8,9]]])\n",
        "TENSOR"
      ],
      "metadata": {
        "colab": {
          "base_uri": "https://localhost:8080/"
        },
        "id": "uCqjb05YDPk0",
        "outputId": "66859dc5-282b-4434-a1ad-1fa801d0f7db"
      },
      "execution_count": 9,
      "outputs": [
        {
          "output_type": "execute_result",
          "data": {
            "text/plain": [
              "tensor([[[1, 2, 3],\n",
              "         [4, 5, 6],\n",
              "         [7, 8, 9]]])"
            ]
          },
          "metadata": {},
          "execution_count": 9
        }
      ]
    },
    {
      "cell_type": "code",
      "source": [
        "TENSOR[0]"
      ],
      "metadata": {
        "colab": {
          "base_uri": "https://localhost:8080/"
        },
        "id": "gDSKt_A1FQIY",
        "outputId": "ff5bb84b-fe6b-4cea-d491-8f78d00a6527"
      },
      "execution_count": 10,
      "outputs": [
        {
          "output_type": "execute_result",
          "data": {
            "text/plain": [
              "tensor([[1, 2, 3],\n",
              "        [4, 5, 6],\n",
              "        [7, 8, 9]])"
            ]
          },
          "metadata": {},
          "execution_count": 10
        }
      ]
    },
    {
      "cell_type": "code",
      "source": [
        "TENSOR [0,1] # same as TENSOR[0][1]"
      ],
      "metadata": {
        "colab": {
          "base_uri": "https://localhost:8080/"
        },
        "id": "MTkq8s-OFXbZ",
        "outputId": "ba9254d9-3d08-400a-c040-1a36b35c5ab7"
      },
      "execution_count": 11,
      "outputs": [
        {
          "output_type": "execute_result",
          "data": {
            "text/plain": [
              "tensor([4, 5, 6])"
            ]
          },
          "metadata": {},
          "execution_count": 11
        }
      ]
    },
    {
      "cell_type": "code",
      "source": [
        "print(TENSOR.ndim) # 3-dimensional tensor\n",
        "print(TENSOR.shape) # torch.Size([1, 3, 3]) 1 * 3 * 3"
      ],
      "metadata": {
        "colab": {
          "base_uri": "https://localhost:8080/"
        },
        "id": "4nIKhp7fD0gG",
        "outputId": "16f10fcb-c1f0-42db-cc2b-60b3015b24d6"
      },
      "execution_count": 12,
      "outputs": [
        {
          "output_type": "stream",
          "name": "stdout",
          "text": [
            "3\n",
            "torch.Size([1, 3, 3])\n"
          ]
        }
      ]
    },
    {
      "cell_type": "code",
      "source": [
        "TENSOR2 = torch.tensor([[[1,2,3],\n",
        "                        [4,5,6],\n",
        "                        [7,8,9]],\n",
        "                        [[11,12,13],\n",
        "                        [14,15,16],\n",
        "                        [17,18,19]]])\n",
        "TENSOR2"
      ],
      "metadata": {
        "colab": {
          "base_uri": "https://localhost:8080/"
        },
        "id": "4sdYXGLVEVxq",
        "outputId": "290133ee-5b77-40dd-cbfb-f8d15199575d"
      },
      "execution_count": 13,
      "outputs": [
        {
          "output_type": "execute_result",
          "data": {
            "text/plain": [
              "tensor([[[ 1,  2,  3],\n",
              "         [ 4,  5,  6],\n",
              "         [ 7,  8,  9]],\n",
              "\n",
              "        [[11, 12, 13],\n",
              "         [14, 15, 16],\n",
              "         [17, 18, 19]]])"
            ]
          },
          "metadata": {},
          "execution_count": 13
        }
      ]
    },
    {
      "cell_type": "code",
      "source": [
        "print(TENSOR2.ndim) # 3\n",
        "print(TENSOR2.shape) # [2,3,3]\n"
      ],
      "metadata": {
        "colab": {
          "base_uri": "https://localhost:8080/"
        },
        "id": "9hP4MylHFDZK",
        "outputId": "60ee65cb-0cde-4fa4-c55b-b2507a3d3759"
      },
      "execution_count": 14,
      "outputs": [
        {
          "output_type": "stream",
          "name": "stdout",
          "text": [
            "3\n",
            "torch.Size([2, 3, 3])\n"
          ]
        }
      ]
    },
    {
      "cell_type": "markdown",
      "source": [
        "### Random tensors\n",
        "\n",
        "Why random tensors?\n",
        "\n",
        "Random tensors are important because many neural networks start learning with tensors of random numbers and adjust those numbers during the learning / training process to better represent the data.\n",
        "\n",
        "Flow:\n",
        "\n",
        "- start with random numbers\n",
        "- look at data\n",
        "- updata random numbers\n",
        "- look at data\n",
        "- update random numbers\n",
        "- etc"
      ],
      "metadata": {
        "id": "36i8YxUyEwgY"
      }
    },
    {
      "cell_type": "code",
      "source": [
        "# create a random tensor of size (3,4)\n",
        "\n",
        "random_tensor = torch.rand(3,4) # number of items per dimension, torch.rand(1,3,4) would create a 3-dimensional tensor\n",
        "random_tensor"
      ],
      "metadata": {
        "colab": {
          "base_uri": "https://localhost:8080/"
        },
        "id": "BSOAo0fOHiJD",
        "outputId": "974829d0-5163-41af-e00d-20c218382bfa"
      },
      "execution_count": 15,
      "outputs": [
        {
          "output_type": "execute_result",
          "data": {
            "text/plain": [
              "tensor([[0.0848, 0.1336, 0.1499, 0.6614],\n",
              "        [0.2968, 0.3000, 0.4738, 0.7710],\n",
              "        [0.8006, 0.7803, 0.5569, 0.1489]])"
            ]
          },
          "metadata": {},
          "execution_count": 15
        }
      ]
    },
    {
      "cell_type": "code",
      "source": [
        "random_tensor.ndim, random_tensor.shape"
      ],
      "metadata": {
        "colab": {
          "base_uri": "https://localhost:8080/"
        },
        "id": "6i9HthKfIWWX",
        "outputId": "48da7148-64af-4693-c2ea-040ddf63adcc"
      },
      "execution_count": 16,
      "outputs": [
        {
          "output_type": "execute_result",
          "data": {
            "text/plain": [
              "(2, torch.Size([3, 4]))"
            ]
          },
          "metadata": {},
          "execution_count": 16
        }
      ]
    },
    {
      "cell_type": "code",
      "source": [
        "# create a random tensor with a similar shape to an image tensor\n",
        "random_image_size_tensor = torch.rand(size=(224,224,3)) # height, width, color channels (R,G,B); sometimes color channels are at the beginning (e.g. 3,224,224)"
      ],
      "metadata": {
        "id": "R_qpcVzSJLsj"
      },
      "execution_count": 17,
      "outputs": []
    },
    {
      "cell_type": "code",
      "source": [
        "random_image_size_tensor.ndim, random_image_size_tensor.shape"
      ],
      "metadata": {
        "colab": {
          "base_uri": "https://localhost:8080/"
        },
        "id": "QqXTbjxTJbbW",
        "outputId": "c3566bf8-27d0-488f-accc-133920c82571"
      },
      "execution_count": 18,
      "outputs": [
        {
          "output_type": "execute_result",
          "data": {
            "text/plain": [
              "(3, torch.Size([224, 224, 3]))"
            ]
          },
          "metadata": {},
          "execution_count": 18
        }
      ]
    },
    {
      "cell_type": "markdown",
      "source": [
        "### zeroes and ones\n",
        "\n",
        "Note: ones and zeros are created as float32, not integers"
      ],
      "metadata": {
        "id": "CzYKmHxbivQ9"
      }
    },
    {
      "cell_type": "code",
      "source": [
        "zeros = torch.zeros(size=(3,4))\n",
        "zeros"
      ],
      "metadata": {
        "colab": {
          "base_uri": "https://localhost:8080/"
        },
        "id": "p8ehdVRMi2eT",
        "outputId": "56eb1499-e60f-4d24-8451-bc097fee5bdb"
      },
      "execution_count": 19,
      "outputs": [
        {
          "output_type": "execute_result",
          "data": {
            "text/plain": [
              "tensor([[0., 0., 0., 0.],\n",
              "        [0., 0., 0., 0.],\n",
              "        [0., 0., 0., 0.]])"
            ]
          },
          "metadata": {},
          "execution_count": 19
        }
      ]
    },
    {
      "cell_type": "code",
      "source": [
        "ones = torch.ones(size=(3,4))\n",
        "ones"
      ],
      "metadata": {
        "colab": {
          "base_uri": "https://localhost:8080/"
        },
        "id": "7kf6LV1LjE_q",
        "outputId": "8b9225b1-4751-45a6-ee12-8cf294e524bf"
      },
      "execution_count": 20,
      "outputs": [
        {
          "output_type": "execute_result",
          "data": {
            "text/plain": [
              "tensor([[1., 1., 1., 1.],\n",
              "        [1., 1., 1., 1.],\n",
              "        [1., 1., 1., 1.]])"
            ]
          },
          "metadata": {},
          "execution_count": 20
        }
      ]
    },
    {
      "cell_type": "code",
      "source": [
        "ones.dtype # all tensors are float32 unless otherwise defined"
      ],
      "metadata": {
        "colab": {
          "base_uri": "https://localhost:8080/"
        },
        "id": "Xl-_X-dQjRBg",
        "outputId": "2724a576-b3a7-420e-a841-042230488b04"
      },
      "execution_count": 21,
      "outputs": [
        {
          "output_type": "execute_result",
          "data": {
            "text/plain": [
              "torch.float32"
            ]
          },
          "metadata": {},
          "execution_count": 21
        }
      ]
    },
    {
      "cell_type": "markdown",
      "source": [
        "### create range of tensors and tensors-like"
      ],
      "metadata": {
        "id": "LACz9Sa3jYbx"
      }
    },
    {
      "cell_type": "code",
      "source": [
        "torch.range(0,10) # deprecated, produces range 0-10\n",
        "torch.arange(0,10) # works like python range, creates range 0-9 (10 is exclusive)"
      ],
      "metadata": {
        "colab": {
          "base_uri": "https://localhost:8080/"
        },
        "id": "7T4DT9GEkKAF",
        "outputId": "b2513bb4-b397-4e5d-9753-5783aa74ad90"
      },
      "execution_count": 22,
      "outputs": [
        {
          "output_type": "stream",
          "name": "stderr",
          "text": [
            "<ipython-input-22-f633905e99fc>:1: UserWarning: torch.range is deprecated and will be removed in a future release because its behavior is inconsistent with Python's range builtin. Instead, use torch.arange, which produces values in [start, end).\n",
            "  torch.range(0,10) # deprecated, produces range 0-10\n"
          ]
        },
        {
          "output_type": "execute_result",
          "data": {
            "text/plain": [
              "tensor([0, 1, 2, 3, 4, 5, 6, 7, 8, 9])"
            ]
          },
          "metadata": {},
          "execution_count": 22
        }
      ]
    },
    {
      "cell_type": "code",
      "source": [
        "one_to_ten = torch.arange(1,11)\n",
        "one_to_ten"
      ],
      "metadata": {
        "colab": {
          "base_uri": "https://localhost:8080/"
        },
        "id": "DeSQwQ9-kraZ",
        "outputId": "498a8dfc-6776-411f-b6de-ea0b204a6a04"
      },
      "execution_count": 23,
      "outputs": [
        {
          "output_type": "execute_result",
          "data": {
            "text/plain": [
              "tensor([ 1,  2,  3,  4,  5,  6,  7,  8,  9, 10])"
            ]
          },
          "metadata": {},
          "execution_count": 23
        }
      ]
    },
    {
      "cell_type": "code",
      "source": [
        "zero_to_1000_step_50 = torch.arange(0,1001,50)\n",
        "zero_to_1000_step_50"
      ],
      "metadata": {
        "colab": {
          "base_uri": "https://localhost:8080/"
        },
        "id": "JIeZGCMsk16Q",
        "outputId": "f9c522c8-e7b2-40f7-f941-e50845204f4c"
      },
      "execution_count": 24,
      "outputs": [
        {
          "output_type": "execute_result",
          "data": {
            "text/plain": [
              "tensor([   0,   50,  100,  150,  200,  250,  300,  350,  400,  450,  500,  550,\n",
              "         600,  650,  700,  750,  800,  850,  900,  950, 1000])"
            ]
          },
          "metadata": {},
          "execution_count": 24
        }
      ]
    },
    {
      "cell_type": "code",
      "source": [
        "# same as\n",
        "torch.arange(start=0, end=1001, step=50)"
      ],
      "metadata": {
        "colab": {
          "base_uri": "https://localhost:8080/"
        },
        "id": "X0zCCfxjlED_",
        "outputId": "40a801f6-6cf4-439e-f7ff-c4bbac832285"
      },
      "execution_count": 25,
      "outputs": [
        {
          "output_type": "execute_result",
          "data": {
            "text/plain": [
              "tensor([   0,   50,  100,  150,  200,  250,  300,  350,  400,  450,  500,  550,\n",
              "         600,  650,  700,  750,  800,  850,  900,  950, 1000])"
            ]
          },
          "metadata": {},
          "execution_count": 25
        }
      ]
    },
    {
      "cell_type": "code",
      "source": [
        "# tensors like\n",
        "# zeros all values of the input tensor / returns a tensor in the same shape as the input tensor with all values zerod\n",
        "ten_zeros = torch.zeros_like(one_to_ten)\n",
        "ten_zeros"
      ],
      "metadata": {
        "colab": {
          "base_uri": "https://localhost:8080/"
        },
        "id": "VqgX5JkJlSnW",
        "outputId": "9968c552-7b87-4b38-93d2-bbd117f20377"
      },
      "execution_count": 26,
      "outputs": [
        {
          "output_type": "execute_result",
          "data": {
            "text/plain": [
              "tensor([0, 0, 0, 0, 0, 0, 0, 0, 0, 0])"
            ]
          },
          "metadata": {},
          "execution_count": 26
        }
      ]
    },
    {
      "cell_type": "markdown",
      "source": [
        "## Tensor datatypes\n",
        "\n",
        "Tensor datatypes is one of the 3 big error sources when working with pytorch & deep learning:\n",
        "\n",
        "1. Tensor is not the right datatype\n",
        "2. Tensor is not the right shape\n",
        "3. tensor is not the right device"
      ],
      "metadata": {
        "id": "-GPDjkGLmURM"
      }
    },
    {
      "cell_type": "code",
      "source": [
        "float_32_tensor = torch.tensor([3.0,6.0,9.0],\n",
        "                               dtype=None, # specify datatype (defaults to float32 if floats are given)\n",
        "                               device=\"cpu\", # what device is the tensor on; \"cuda\" for gpu\n",
        "                               requires_grad=False) # whethter to track gradients in tensor operations or not\n",
        "float_32_tensor.dtype"
      ],
      "metadata": {
        "colab": {
          "base_uri": "https://localhost:8080/"
        },
        "id": "8jP6UH9CmXH5",
        "outputId": "b5caabea-93c3-4d65-a76f-7d426e34f8da"
      },
      "execution_count": 27,
      "outputs": [
        {
          "output_type": "execute_result",
          "data": {
            "text/plain": [
              "torch.float32"
            ]
          },
          "metadata": {},
          "execution_count": 27
        }
      ]
    },
    {
      "cell_type": "code",
      "source": [
        "int64_tensor = torch.tensor([3,6,9]) # note we use ints, so the tensor will default to int64\n",
        "int64_tensor.dtype"
      ],
      "metadata": {
        "colab": {
          "base_uri": "https://localhost:8080/"
        },
        "id": "B85KZ9TBo-zR",
        "outputId": "491bdc40-5661-4d76-bf71-86f4de619290"
      },
      "execution_count": 28,
      "outputs": [
        {
          "output_type": "execute_result",
          "data": {
            "text/plain": [
              "torch.int64"
            ]
          },
          "metadata": {},
          "execution_count": 28
        }
      ]
    },
    {
      "cell_type": "code",
      "source": [
        "# convert tensor\n",
        "float_16_tensor = float_32_tensor.type(torch.float16)\n",
        "float_16_tensor"
      ],
      "metadata": {
        "colab": {
          "base_uri": "https://localhost:8080/"
        },
        "id": "9pmSFSrwopDK",
        "outputId": "f2cb144d-3f2e-4e98-dfcd-834a8c60a0e7"
      },
      "execution_count": 29,
      "outputs": [
        {
          "output_type": "execute_result",
          "data": {
            "text/plain": [
              "tensor([3., 6., 9.], dtype=torch.float16)"
            ]
          },
          "metadata": {},
          "execution_count": 29
        }
      ]
    },
    {
      "cell_type": "code",
      "source": [
        "# multiplication between tensors of different datatype possible,\n",
        "# output is the lower precission datatype\n",
        "float_16_tensor * float_32_tensor"
      ],
      "metadata": {
        "colab": {
          "base_uri": "https://localhost:8080/"
        },
        "id": "Jqm86wBQpmA5",
        "outputId": "eb40077d-8759-4382-92e9-a4c1494dadfb"
      },
      "execution_count": 30,
      "outputs": [
        {
          "output_type": "execute_result",
          "data": {
            "text/plain": [
              "tensor([ 9., 36., 81.])"
            ]
          },
          "metadata": {},
          "execution_count": 30
        }
      ]
    },
    {
      "cell_type": "code",
      "source": [
        "(int64_tensor * float_32_tensor).dtype # float32 as multiplying int * float doesn't have precission loss"
      ],
      "metadata": {
        "colab": {
          "base_uri": "https://localhost:8080/"
        },
        "id": "hVWjSFqtqAfv",
        "outputId": "62ed3b5b-8adc-497c-9184-062fc572cd45"
      },
      "execution_count": 31,
      "outputs": [
        {
          "output_type": "execute_result",
          "data": {
            "text/plain": [
              "torch.float32"
            ]
          },
          "metadata": {},
          "execution_count": 31
        }
      ]
    },
    {
      "cell_type": "code",
      "source": [
        "(torch.tensor([1,2,3], dtype=torch.int32) * torch.tensor([4,5,6], dtype=torch.float32)).dtype # float32, same as above"
      ],
      "metadata": {
        "colab": {
          "base_uri": "https://localhost:8080/"
        },
        "id": "mA6euVolqW12",
        "outputId": "2afb9706-432f-47ef-db35-03bd3c7cde6e"
      },
      "execution_count": 32,
      "outputs": [
        {
          "output_type": "execute_result",
          "data": {
            "text/plain": [
              "torch.float32"
            ]
          },
          "metadata": {},
          "execution_count": 32
        }
      ]
    },
    {
      "cell_type": "markdown",
      "source": [
        "### getting information from tensors\n",
        "\n",
        "1. datatype (tensor.dtype)\n",
        "2. shape (tensor.shape, tensor.size())\n",
        "3. device (tensor.device)\n"
      ],
      "metadata": {
        "id": "zTnElbPArnWh"
      }
    },
    {
      "cell_type": "code",
      "source": [
        "some_tensor = torch.rand(3,4)\n",
        "\n",
        "def tensor_info(tensor):\n",
        "  print(f\"shape: {tensor.shape}, dimensions: {tensor.ndim}\") # no str(tensor.shape) needed in formatted strings / string literals\n",
        "  print(f\"dtype: {tensor.dtype}\")\n",
        "  print(f\"device: {tensor.device}\")\n",
        "\n",
        "tensor_info(some_tensor)\n"
      ],
      "metadata": {
        "colab": {
          "base_uri": "https://localhost:8080/"
        },
        "id": "0N35FTmAr9uj",
        "outputId": "e9f3d9da-d31a-41fc-d700-6a7a0aa054ea"
      },
      "execution_count": 33,
      "outputs": [
        {
          "output_type": "stream",
          "name": "stdout",
          "text": [
            "shape: torch.Size([3, 4]), dimensions: 2\n",
            "dtype: torch.float32\n",
            "device: cpu\n"
          ]
        }
      ]
    },
    {
      "cell_type": "markdown",
      "source": [
        "### manipulating tensors (tensor operations)\n",
        "\n",
        "- addition\n",
        "- subtraction\n",
        "- division\n",
        "- multiplication (element-wise)\n",
        "- matrix multiplication"
      ],
      "metadata": {
        "id": "GUUfm3XCVwJh"
      }
    },
    {
      "cell_type": "code",
      "source": [
        "tensor = torch.tensor([1,2,3])\n",
        "tensor + 10 # adds 10 to each element"
      ],
      "metadata": {
        "colab": {
          "base_uri": "https://localhost:8080/"
        },
        "id": "FdlnBVTxWI7m",
        "outputId": "85981e1b-4354-4fc1-fc1a-fb1adba186ec"
      },
      "execution_count": 34,
      "outputs": [
        {
          "output_type": "execute_result",
          "data": {
            "text/plain": [
              "tensor([11, 12, 13])"
            ]
          },
          "metadata": {},
          "execution_count": 34
        }
      ]
    },
    {
      "cell_type": "code",
      "source": [
        "tensor * 10 # multiplies each element by 10"
      ],
      "metadata": {
        "colab": {
          "base_uri": "https://localhost:8080/"
        },
        "id": "OigUsJN7WY4M",
        "outputId": "ca276b79-40b7-4c7a-df05-a6d8f196f167"
      },
      "execution_count": 35,
      "outputs": [
        {
          "output_type": "execute_result",
          "data": {
            "text/plain": [
              "tensor([10, 20, 30])"
            ]
          },
          "metadata": {},
          "execution_count": 35
        }
      ]
    },
    {
      "cell_type": "code",
      "source": [
        "print(tensor - 10); # doesn't print if just use \"tensor - 10\" - why?"
      ],
      "metadata": {
        "colab": {
          "base_uri": "https://localhost:8080/"
        },
        "id": "rTCXXld1WnY8",
        "outputId": "58a64f41-6d85-4602-a3ba-7ad023d92f5d"
      },
      "execution_count": 36,
      "outputs": [
        {
          "output_type": "stream",
          "name": "stdout",
          "text": [
            "tensor([-9, -8, -7])\n"
          ]
        }
      ]
    },
    {
      "cell_type": "code",
      "source": [
        "# using pytorch in-built functions\n",
        "torch.mul(tensor, 10), torch.add(tensor, 5), torch.sub(tensor, 20)"
      ],
      "metadata": {
        "colab": {
          "base_uri": "https://localhost:8080/"
        },
        "id": "l14gC45GW7dx",
        "outputId": "e10ca6ef-36a8-4f3e-dd05-a857312277ce"
      },
      "execution_count": 37,
      "outputs": [
        {
          "output_type": "execute_result",
          "data": {
            "text/plain": [
              "(tensor([10, 20, 30]), tensor([6, 7, 8]), tensor([-19, -18, -17]))"
            ]
          },
          "metadata": {},
          "execution_count": 37
        }
      ]
    },
    {
      "cell_type": "markdown",
      "source": [
        "In general, the course recommends to use the standard python operators instead of the torch methods for better readability.\n",
        "\n",
        "In general, the torch methods are faster for more complex operations such as matrix multiplication (matmul)\n"
      ],
      "metadata": {
        "id": "FJgAg2T3XQB4"
      }
    },
    {
      "cell_type": "markdown",
      "source": [
        "### Matrix multiplication\n",
        "\n",
        "[how to multiply matrices](https://www.mathsisfun.com/algebra/matrix-multiplying.html)\n",
        "\n",
        "[visualization](http://matrixmultiplication.xyz/)\n",
        "\n",
        "Two main ways of performing multiplication in neural networks and deep learning:\n",
        "\n",
        "1. Element-wise multiplication / scalare multiplication\n",
        "  - multiply by single number: just multiply each matrix element with that number\n",
        "2. Matrix multiplication / dot product (most common operation in neural networks)\n",
        "  - symbol: **&middot;** (just a fat dot), e.g. \"a **&middot;** b\"\n",
        "  - pytorch function: `torch.matmul(t1, t2)` or `torch.mm(...)`, python operator: `@`, e.g. `t1 @ t2`\n",
        "  - **inner dimensions** must match:\n",
        "    - (3, **2**) @ (**3**, 2) will NOT work\n",
        "    - (2, **3**) @ (**3**, 2) WILL work\n",
        "    - (3, **2**) @ (**2**, 3) WILL work\n",
        "  - the resulting matrix has the shape of the **outer dimensions**  \n",
        "    - (**2**, 3) @ (3, **2**) -> resulting shape: (2, 2)\n",
        "    - (**3**, 2) @ (2, **3**) -> resulting shape: (3, 3)\n",
        "    - torch.rand(7,10) @ torch.rand(10,2) -> shape: (7,2)\n",
        "  - order counts!\n",
        "  - dot product of rows and columns\n",
        "  - rows of first matrix are multiplied by columns of second matrix\n",
        "\n"
      ],
      "metadata": {
        "id": "H0xyMIrGXjN_"
      }
    },
    {
      "cell_type": "code",
      "source": [
        "(torch.rand(7,10) @ torch.rand(10,2)).shape"
      ],
      "metadata": {
        "colab": {
          "base_uri": "https://localhost:8080/"
        },
        "id": "_ANEwZTkqeHv",
        "outputId": "1a686669-c653-4e14-dfc1-b2ba4b58ad95"
      },
      "execution_count": 38,
      "outputs": [
        {
          "output_type": "execute_result",
          "data": {
            "text/plain": [
              "torch.Size([7, 2])"
            ]
          },
          "metadata": {},
          "execution_count": 38
        }
      ]
    },
    {
      "cell_type": "code",
      "source": [
        "# element-wise multiplication\n",
        "torch.tensor([[1,2,3], [4,5,6]]) * torch.tensor([[1,2,3], [4,5,6]])"
      ],
      "metadata": {
        "colab": {
          "base_uri": "https://localhost:8080/"
        },
        "id": "D6HdPiWfgQQ7",
        "outputId": "9891d4f3-a217-439f-a62b-a7b317c60277"
      },
      "execution_count": 39,
      "outputs": [
        {
          "output_type": "execute_result",
          "data": {
            "text/plain": [
              "tensor([[ 1,  4,  9],\n",
              "        [16, 25, 36]])"
            ]
          },
          "metadata": {},
          "execution_count": 39
        }
      ]
    },
    {
      "cell_type": "code",
      "source": [
        "# matrix multiplication with vectors\n",
        "# tensor from before is a [1,2,3]\n",
        "torch.matmul(tensor, tensor) # 1*1 + 2*2 + 3*3"
      ],
      "metadata": {
        "colab": {
          "base_uri": "https://localhost:8080/"
        },
        "id": "9SyA4VFPgxfB",
        "outputId": "fd1454fa-164e-4aed-a6d3-2b3826ad5d04"
      },
      "execution_count": 40,
      "outputs": [
        {
          "output_type": "execute_result",
          "data": {
            "text/plain": [
              "tensor(14)"
            ]
          },
          "metadata": {},
          "execution_count": 40
        }
      ]
    },
    {
      "cell_type": "code",
      "source": [
        "# dot product / matrix multiplication\n",
        "torch.matmul(torch.tensor(\n",
        "    [ [1,2,3],\n",
        "      [4,5,6]\n",
        "    ]),torch.tensor(\n",
        "        [\n",
        "          [7,8],\n",
        "          [9,10],\n",
        "          [11,12]\n",
        "        ]))"
      ],
      "metadata": {
        "colab": {
          "base_uri": "https://localhost:8080/"
        },
        "id": "_BnC29Cre6xP",
        "outputId": "d3287bf8-14fe-4cd4-a8fb-4c8e68d4ea4b"
      },
      "execution_count": 41,
      "outputs": [
        {
          "output_type": "execute_result",
          "data": {
            "text/plain": [
              "tensor([[ 58,  64],\n",
              "        [139, 154]])"
            ]
          },
          "metadata": {},
          "execution_count": 41
        }
      ]
    },
    {
      "cell_type": "markdown",
      "source": [
        "### One of the most common errors in deep learning: shape errors\n",
        "\n"
      ],
      "metadata": {
        "id": "I0aGpLjJoli1"
      }
    },
    {
      "cell_type": "code",
      "source": [
        "# shapes for matrix multiplication\n",
        "tensor_A = torch.tensor([[1,2],\n",
        "                         [3,4],\n",
        "                         [5,6]])\n",
        "\n",
        "tensor_B = torch.tensor([[7,10],\n",
        "                         [8,11],\n",
        "                         [9,12]])\n",
        "\n",
        "tensor_info(tensor_A)\n",
        "tensor_info(tensor_B)\n",
        "\n",
        "try:\n",
        "  torch.matmul(tensor_A, tensor_B) # error\n",
        "except RuntimeError:\n",
        "  print(\"can't multiply tensors: incompatible shapes\")\n",
        "\n"
      ],
      "metadata": {
        "colab": {
          "base_uri": "https://localhost:8080/"
        },
        "id": "6R7BCQQVqzER",
        "outputId": "6b90092b-5f8b-4137-9387-861b52c5e1d8"
      },
      "execution_count": 42,
      "outputs": [
        {
          "output_type": "stream",
          "name": "stdout",
          "text": [
            "shape: torch.Size([3, 2]), dimensions: 2\n",
            "dtype: torch.int64\n",
            "device: cpu\n",
            "shape: torch.Size([3, 2]), dimensions: 2\n",
            "dtype: torch.int64\n",
            "device: cpu\n",
            "can't multiply tensors: incompatible shapes\n"
          ]
        }
      ]
    },
    {
      "cell_type": "markdown",
      "source": [
        "To fix the error, we can transpose one of our tensors so that the outer dimensions match.\n",
        "\n",
        "Transpose switches the axes or dimensions of a given tensor."
      ],
      "metadata": {
        "id": "KlgAxP7GHBQu"
      }
    },
    {
      "cell_type": "code",
      "source": [
        "tensor_info(tensor_B)\n",
        "print(tensor_B)\n",
        "tensor_info(tensor_B.T) # transposed\n",
        "print(tensor_B.T)\n"
      ],
      "metadata": {
        "colab": {
          "base_uri": "https://localhost:8080/"
        },
        "id": "lm90yEpzD_ZR",
        "outputId": "9c88caaf-9c6c-4271-dd9b-48ed2e6206ad"
      },
      "execution_count": 43,
      "outputs": [
        {
          "output_type": "stream",
          "name": "stdout",
          "text": [
            "shape: torch.Size([3, 2]), dimensions: 2\n",
            "dtype: torch.int64\n",
            "device: cpu\n",
            "tensor([[ 7, 10],\n",
            "        [ 8, 11],\n",
            "        [ 9, 12]])\n",
            "shape: torch.Size([2, 3]), dimensions: 2\n",
            "dtype: torch.int64\n",
            "device: cpu\n",
            "tensor([[ 7,  8,  9],\n",
            "        [10, 11, 12]])\n"
          ]
        }
      ]
    },
    {
      "cell_type": "code",
      "source": [
        "# the matrix multiplicatoin works when tensor_B is transposed so the inner dimensions match with tensor_A\n",
        "torch.matmul(tensor_A, tensor_B.T) # the resulting tensors shape is the outer dimensions of the source tensors (3/3)"
      ],
      "metadata": {
        "colab": {
          "base_uri": "https://localhost:8080/"
        },
        "id": "3g82qf0MGVWV",
        "outputId": "6b4ff962-7cc6-4fec-9a5c-bba718c4d045"
      },
      "execution_count": 44,
      "outputs": [
        {
          "output_type": "execute_result",
          "data": {
            "text/plain": [
              "tensor([[ 27,  30,  33],\n",
              "        [ 61,  68,  75],\n",
              "        [ 95, 106, 117]])"
            ]
          },
          "metadata": {},
          "execution_count": 44
        }
      ]
    },
    {
      "cell_type": "markdown",
      "source": [
        "## Tensor aggregation: Finding the min, max, mean, sum etc."
      ],
      "metadata": {
        "id": "JCkzElBoH3kx"
      }
    },
    {
      "cell_type": "code",
      "source": [
        "x = torch.arange(0,100,10)\n",
        "x.min(), x.max() # or torch.min(x)"
      ],
      "metadata": {
        "colab": {
          "base_uri": "https://localhost:8080/"
        },
        "id": "zlLOlwvZH-49",
        "outputId": "69fce39e-43eb-4fb7-c3a1-9950f08649e5"
      },
      "execution_count": 45,
      "outputs": [
        {
          "output_type": "execute_result",
          "data": {
            "text/plain": [
              "(tensor(0), tensor(90))"
            ]
          },
          "metadata": {},
          "execution_count": 45
        }
      ]
    },
    {
      "cell_type": "code",
      "source": [
        "# mean\n",
        "try:\n",
        "  print(x.mean())\n",
        "except RuntimeError:\n",
        "  print(\"mean doesn't work with integer / long types as the result is usually a floating point\")\n",
        "\n",
        "x_float = x.type(torch.float32)\n",
        "\n",
        "x_float.mean() #  or torch.mean(x.type(torch.float32))\n"
      ],
      "metadata": {
        "colab": {
          "base_uri": "https://localhost:8080/"
        },
        "id": "dx7QWfZGIUf6",
        "outputId": "8efe6c27-3a71-41ae-a843-4ed07426e438"
      },
      "execution_count": 46,
      "outputs": [
        {
          "output_type": "stream",
          "name": "stdout",
          "text": [
            "mean doesn't work with integer / long types as the result is usually a floating point\n"
          ]
        },
        {
          "output_type": "execute_result",
          "data": {
            "text/plain": [
              "tensor(45.)"
            ]
          },
          "metadata": {},
          "execution_count": 46
        }
      ]
    },
    {
      "cell_type": "code",
      "source": [
        "x.sum(), x_float.sum()"
      ],
      "metadata": {
        "colab": {
          "base_uri": "https://localhost:8080/"
        },
        "id": "ahA4tYD6JjxB",
        "outputId": "b8f21be5-12d7-46d3-a076-899f733f089c"
      },
      "execution_count": 47,
      "outputs": [
        {
          "output_type": "execute_result",
          "data": {
            "text/plain": [
              "(tensor(450), tensor(450.))"
            ]
          },
          "metadata": {},
          "execution_count": 47
        }
      ]
    },
    {
      "cell_type": "code",
      "source": [
        "# argmin/argmax return the index of the min / max value\n",
        "torch.argmin(x), torch.argmax(x)"
      ],
      "metadata": {
        "colab": {
          "base_uri": "https://localhost:8080/"
        },
        "id": "bUdJCCF5JqR7",
        "outputId": "5f480169-ad13-4bf7-8150-c49e36df3be9"
      },
      "execution_count": 48,
      "outputs": [
        {
          "output_type": "execute_result",
          "data": {
            "text/plain": [
              "(tensor(0), tensor(9))"
            ]
          },
          "metadata": {},
          "execution_count": 48
        }
      ]
    },
    {
      "cell_type": "code",
      "source": [
        "# what does it do with multidimensional tensors (matrices)?\n",
        "# for multidimensional tensors, it seems argmin/argmax flattens the tensor and gives the index of the value in the resulting one-dimensional array\n",
        "print(tensor_A)\n",
        "def tensor_aggregation_info(tensor):\n",
        "  print(f\"min: {tensor.min()}\")\n",
        "  print(f\"max: {tensor.max()}\")\n",
        "  print(f\"sum: {tensor.sum()}\")\n",
        "  try:\n",
        "    print(f\"mean: {tensor.mean()}\")\n",
        "  except RuntimeError:\n",
        "    print(\"mean: wrong datatype (must be floating point or complex)\")\n",
        "  print(f\"argmin: {tensor.argmin()}\")\n",
        "  print(f\"argmax: {tensor.argmax()}\")\n",
        "\n",
        "def tensor_info_all(tensor):\n",
        "  tensor_info(tensor)\n",
        "  tensor_aggregation_info(tensor)\n",
        "\n",
        "tensor_info_all(tensor_A)"
      ],
      "metadata": {
        "colab": {
          "base_uri": "https://localhost:8080/"
        },
        "id": "AbWYqo-zKdRC",
        "outputId": "101ee399-f001-434a-9149-d21eb4b615c9"
      },
      "execution_count": 49,
      "outputs": [
        {
          "output_type": "stream",
          "name": "stdout",
          "text": [
            "tensor([[1, 2],\n",
            "        [3, 4],\n",
            "        [5, 6]])\n",
            "shape: torch.Size([3, 2]), dimensions: 2\n",
            "dtype: torch.int64\n",
            "device: cpu\n",
            "min: 1\n",
            "max: 6\n",
            "sum: 21\n",
            "mean: wrong datatype (must be floating point or complex)\n",
            "argmin: 0\n",
            "argmax: 5\n"
          ]
        }
      ]
    },
    {
      "cell_type": "markdown",
      "source": [
        "## Reshaping, stacking, squeezing and unsqueezing tensors\n",
        "\n",
        "- Reshaping: reshapes an input to a defined shape\n",
        "- View: return a view of an input tensor of certain shape but keep the same memory as the original tensor (saving memory)\n",
        "- Stacking: combine multiple tensors on top of each other (torch.vstack) or side by side (torch.hstack) or on whatever dimension (torch.stack)\n",
        "- Squeeze: remove all `1` dimensions from a tensor\n",
        "- Unsqueeze: add a `1` dimension to a tensor\n",
        "- Permute: return a view of the input with dimensions permuted (swapped) in a certain way\n",
        "\n"
      ],
      "metadata": {
        "id": "jiXuIEIFNCHl"
      }
    },
    {
      "cell_type": "code",
      "source": [
        "x = torch.arange(1., 10.)\n",
        "x, x.shape"
      ],
      "metadata": {
        "colab": {
          "base_uri": "https://localhost:8080/"
        },
        "id": "xaaEvr2mOkuh",
        "outputId": "f4a7e33d-bf44-4813-d349-6942c53a87c0"
      },
      "execution_count": 50,
      "outputs": [
        {
          "output_type": "execute_result",
          "data": {
            "text/plain": [
              "(tensor([1., 2., 3., 4., 5., 6., 7., 8., 9.]), torch.Size([9]))"
            ]
          },
          "metadata": {},
          "execution_count": 50
        }
      ]
    },
    {
      "cell_type": "code",
      "source": [
        "# reshape\n",
        "x_reshaped = torch.reshape(x, [3,3])\n",
        "print(x_reshaped)\n",
        "\n",
        "try:\n",
        "  torch.reshape(x, [3,4]) # would require x to have 12 values\n",
        "except RuntimeError as e:\n",
        "  print(str(e))\n",
        "  print(\"tensor can only be reshaped in a tensor with the same amount of elements\")"
      ],
      "metadata": {
        "colab": {
          "base_uri": "https://localhost:8080/"
        },
        "id": "Ud7E71A0Owhj",
        "outputId": "334361dc-a355-458e-8f8f-e546d780cdfe"
      },
      "execution_count": 51,
      "outputs": [
        {
          "output_type": "stream",
          "name": "stdout",
          "text": [
            "tensor([[1., 2., 3.],\n",
            "        [4., 5., 6.],\n",
            "        [7., 8., 9.]])\n",
            "shape '[3, 4]' is invalid for input of size 9\n",
            "tensor can only be reshaped in a tensor with the same amount of elements\n"
          ]
        }
      ]
    },
    {
      "cell_type": "code",
      "source": [
        "x.reshape(9,1)"
      ],
      "metadata": {
        "colab": {
          "base_uri": "https://localhost:8080/"
        },
        "id": "KzieyP7zSxKr",
        "outputId": "cb6469cd-e024-40ca-9458-da9f9bbff73a"
      },
      "execution_count": 52,
      "outputs": [
        {
          "output_type": "execute_result",
          "data": {
            "text/plain": [
              "tensor([[1.],\n",
              "        [2.],\n",
              "        [3.],\n",
              "        [4.],\n",
              "        [5.],\n",
              "        [6.],\n",
              "        [7.],\n",
              "        [8.],\n",
              "        [9.]])"
            ]
          },
          "metadata": {},
          "execution_count": 52
        }
      ]
    },
    {
      "cell_type": "code",
      "source": [
        "tensor_8_elements = torch.arange(1,9)\n",
        "tensor_8_elements.reshape(2,2,2)"
      ],
      "metadata": {
        "colab": {
          "base_uri": "https://localhost:8080/"
        },
        "id": "Zwx2EC5ZTGjr",
        "outputId": "2f91aeb1-17b0-4193-b984-a27df395f284"
      },
      "execution_count": 53,
      "outputs": [
        {
          "output_type": "execute_result",
          "data": {
            "text/plain": [
              "tensor([[[1, 2],\n",
              "         [3, 4]],\n",
              "\n",
              "        [[5, 6],\n",
              "         [7, 8]]])"
            ]
          },
          "metadata": {},
          "execution_count": 53
        }
      ]
    },
    {
      "cell_type": "code",
      "source": [
        "# create a view\n",
        "# can be used to reshape a tensor but using the original's memory\n",
        "\n",
        "z = x.view(3,3)\n",
        "z"
      ],
      "metadata": {
        "colab": {
          "base_uri": "https://localhost:8080/"
        },
        "id": "YByteYHJTh0g",
        "outputId": "915ed050-3c5c-42d5-a76e-2ea9ba384ed2"
      },
      "execution_count": 54,
      "outputs": [
        {
          "output_type": "execute_result",
          "data": {
            "text/plain": [
              "tensor([[1., 2., 3.],\n",
              "        [4., 5., 6.],\n",
              "        [7., 8., 9.]])"
            ]
          },
          "metadata": {},
          "execution_count": 54
        }
      ]
    },
    {
      "cell_type": "code",
      "source": [
        "# changing an element in the view changes it in the original tensor\n",
        "z[0,0] = 99.0\n",
        "print(z)\n",
        "print(x)"
      ],
      "metadata": {
        "colab": {
          "base_uri": "https://localhost:8080/"
        },
        "id": "3DbLP6dFUBR-",
        "outputId": "8433125c-f42a-4491-954d-cd98413bb906"
      },
      "execution_count": 55,
      "outputs": [
        {
          "output_type": "stream",
          "name": "stdout",
          "text": [
            "tensor([[99.,  2.,  3.],\n",
            "        [ 4.,  5.,  6.],\n",
            "        [ 7.,  8.,  9.]])\n",
            "tensor([99.,  2.,  3.,  4.,  5.,  6.,  7.,  8.,  9.])\n"
          ]
        }
      ]
    },
    {
      "cell_type": "code",
      "source": [
        "# and vice versa\n",
        "x[len(x)-1] = 77.0\n",
        "print(f\"x: {x}\")\n",
        "print(f\"z: {z}\")\n"
      ],
      "metadata": {
        "colab": {
          "base_uri": "https://localhost:8080/"
        },
        "id": "h1DYm3PQULdK",
        "outputId": "b10107cc-582e-441d-e6e6-0adeed7af67d"
      },
      "execution_count": 56,
      "outputs": [
        {
          "output_type": "stream",
          "name": "stdout",
          "text": [
            "x: tensor([99.,  2.,  3.,  4.,  5.,  6.,  7.,  8., 77.])\n",
            "z: tensor([[99.,  2.,  3.],\n",
            "        [ 4.,  5.,  6.],\n",
            "        [ 7.,  8., 77.]])\n"
          ]
        }
      ]
    },
    {
      "cell_type": "code",
      "source": [
        "# reset to original values / shape for further code\n",
        "x = torch.arange(1., 10.)\n",
        "x"
      ],
      "metadata": {
        "colab": {
          "base_uri": "https://localhost:8080/"
        },
        "id": "TVucyK3DU6zs",
        "outputId": "e3c777a0-25ad-4f5c-91b5-af8ca470b073"
      },
      "execution_count": 57,
      "outputs": [
        {
          "output_type": "execute_result",
          "data": {
            "text/plain": [
              "tensor([1., 2., 3., 4., 5., 6., 7., 8., 9.])"
            ]
          },
          "metadata": {},
          "execution_count": 57
        }
      ]
    },
    {
      "cell_type": "code",
      "source": [
        "# stacking tensors on top of each other\n",
        "# torch.vstack(x, x) # error, argument must be a tuple or list of tensors\n",
        "torch.vstack((x,x)) # argument as tuple"
      ],
      "metadata": {
        "colab": {
          "base_uri": "https://localhost:8080/"
        },
        "id": "lk6CmyvLVFtC",
        "outputId": "8590e264-95a0-4827-d489-1475b26bbeca"
      },
      "execution_count": 58,
      "outputs": [
        {
          "output_type": "execute_result",
          "data": {
            "text/plain": [
              "tensor([[1., 2., 3., 4., 5., 6., 7., 8., 9.],\n",
              "        [1., 2., 3., 4., 5., 6., 7., 8., 9.]])"
            ]
          },
          "metadata": {},
          "execution_count": 58
        }
      ]
    },
    {
      "cell_type": "code",
      "source": [
        "torch.hstack([x,x]) # argument as list"
      ],
      "metadata": {
        "colab": {
          "base_uri": "https://localhost:8080/"
        },
        "id": "_EA1gFYiViTv",
        "outputId": "cd0154ac-5bd4-4dd3-966d-f6aa49a91559"
      },
      "execution_count": 59,
      "outputs": [
        {
          "output_type": "execute_result",
          "data": {
            "text/plain": [
              "tensor([1., 2., 3., 4., 5., 6., 7., 8., 9., 1., 2., 3., 4., 5., 6., 7., 8., 9.])"
            ]
          },
          "metadata": {},
          "execution_count": 59
        }
      ]
    },
    {
      "cell_type": "code",
      "source": [
        "torch.stack([x,x,x,x], dim=1)"
      ],
      "metadata": {
        "colab": {
          "base_uri": "https://localhost:8080/"
        },
        "id": "6UUwPmwtVmrH",
        "outputId": "2ba8bafe-b67b-4b5c-f928-56dcad311047"
      },
      "execution_count": 60,
      "outputs": [
        {
          "output_type": "execute_result",
          "data": {
            "text/plain": [
              "tensor([[1., 1., 1., 1.],\n",
              "        [2., 2., 2., 2.],\n",
              "        [3., 3., 3., 3.],\n",
              "        [4., 4., 4., 4.],\n",
              "        [5., 5., 5., 5.],\n",
              "        [6., 6., 6., 6.],\n",
              "        [7., 7., 7., 7.],\n",
              "        [8., 8., 8., 8.],\n",
              "        [9., 9., 9., 9.]])"
            ]
          },
          "metadata": {},
          "execution_count": 60
        }
      ]
    },
    {
      "cell_type": "code",
      "source": [
        "# stacking matrices\n",
        "print(tensor_A)\n",
        "print(tensor_B)\n",
        "\n",
        "print(torch.stack((tensor_A, tensor_B), dim=0))\n",
        "print(torch.vstack((tensor_A, tensor_B)))\n",
        "print(torch.hstack((tensor_A, tensor_B)))"
      ],
      "metadata": {
        "colab": {
          "base_uri": "https://localhost:8080/"
        },
        "id": "9XyppfJnWDSs",
        "outputId": "c7611ef6-3da0-446c-ded1-0eede8a73520"
      },
      "execution_count": 61,
      "outputs": [
        {
          "output_type": "stream",
          "name": "stdout",
          "text": [
            "tensor([[1, 2],\n",
            "        [3, 4],\n",
            "        [5, 6]])\n",
            "tensor([[ 7, 10],\n",
            "        [ 8, 11],\n",
            "        [ 9, 12]])\n",
            "tensor([[[ 1,  2],\n",
            "         [ 3,  4],\n",
            "         [ 5,  6]],\n",
            "\n",
            "        [[ 7, 10],\n",
            "         [ 8, 11],\n",
            "         [ 9, 12]]])\n",
            "tensor([[ 1,  2],\n",
            "        [ 3,  4],\n",
            "        [ 5,  6],\n",
            "        [ 7, 10],\n",
            "        [ 8, 11],\n",
            "        [ 9, 12]])\n",
            "tensor([[ 1,  2,  7, 10],\n",
            "        [ 3,  4,  8, 11],\n",
            "        [ 5,  6,  9, 12]])\n"
          ]
        }
      ]
    },
    {
      "cell_type": "markdown",
      "source": [
        "The video is wrong: hstack and vstack aren't the same as stack, just with a different \"dim\" parameter.\n",
        "\n",
        "Good gpt explanation:\n",
        "\n",
        "- torch.stack(): This method concatenates sequence of tensors along a new dimension. All tensors need to be of the same size. You can specify the new axis along which the tensors will be stacked with the dim argument. For example, if you have two tensors of shape (3,) and you use torch.stack() with dim=0, you'll get a tensor of shape (2, 3). If you set dim=1, you'll get a tensor of shape (3, 2).\n",
        "\n",
        "- torch.hstack(): This method is equivalent to numpy.hstack(). It is a shorthand method for stacking tensors horizontally (i.e., column wise). It's similar to concatenation along the second axis, except for 1-D tensors where it concatenates along the first axis. This means that torch.hstack() can handle inputs with different sizes along the vertical (first) axis, unlike torch.stack(). In the special case of one-dimensional tensors, it behaves like torch.cat() along the first axis, hence different from torch.stack(dim=0) which would introduce a new axis.\n",
        "\n",
        "- torch.vstack(): This method is equivalent to numpy.vstack(). It is a shorthand method for stacking tensors vertically (i.e., row wise). This method concatenates along the first axis for 2-D (or higher) tensors and for 1-D tensors, it concatenates along a new axis, similar to torch.stack(dim=0).\n",
        "\n",
        "So, while it's tempting to think of vstack and hstack as just convenience methods for stack with different dim parameters, they actually have slightly different functionality. They can handle arrays with differing sizes (in their non-stacking dimensions), whereas stack requires all tensors to be of the same size."
      ],
      "metadata": {
        "id": "lN5kC7vhYEVt"
      }
    },
    {
      "cell_type": "code",
      "source": [
        "# squeeze and unsqueeze\n",
        "# squeeze removes all dimensions of size 1, so the following tensor becomes an 1d-tensor\n",
        "tensor_2d = torch.tensor([[1,2,3]])\n",
        "print(tensor_2d)\n",
        "tensor_info_all(tensor_2d)\n",
        "\n",
        "tensor_1d = torch.squeeze(tensor_2d)\n",
        "tensor_1d"
      ],
      "metadata": {
        "id": "s8fj4A07YIMX",
        "colab": {
          "base_uri": "https://localhost:8080/"
        },
        "outputId": "35180fdc-cade-41df-8174-c18e690707da"
      },
      "execution_count": 62,
      "outputs": [
        {
          "output_type": "stream",
          "name": "stdout",
          "text": [
            "tensor([[1, 2, 3]])\n",
            "shape: torch.Size([1, 3]), dimensions: 2\n",
            "dtype: torch.int64\n",
            "device: cpu\n",
            "min: 1\n",
            "max: 3\n",
            "sum: 6\n",
            "mean: wrong datatype (must be floating point or complex)\n",
            "argmin: 0\n",
            "argmax: 2\n"
          ]
        },
        {
          "output_type": "execute_result",
          "data": {
            "text/plain": [
              "tensor([1, 2, 3])"
            ]
          },
          "metadata": {},
          "execution_count": 62
        }
      ]
    },
    {
      "cell_type": "code",
      "source": [
        "# unsqueeze adds a dimension of size 1 to a tensor at the specified position\n",
        "print(tensor_1d.unsqueeze(0))\n",
        "print(tensor_1d.unsqueeze(dim=1))\n",
        "# print(tensor_1d.unsqueeze(2)) # error"
      ],
      "metadata": {
        "colab": {
          "base_uri": "https://localhost:8080/"
        },
        "id": "44O3W-hjVfhT",
        "outputId": "75983c46-1a28-4c26-fd8a-72fc1a92d242"
      },
      "execution_count": 63,
      "outputs": [
        {
          "output_type": "stream",
          "name": "stdout",
          "text": [
            "tensor([[1, 2, 3]])\n",
            "tensor([[1],\n",
            "        [2],\n",
            "        [3]])\n"
          ]
        }
      ]
    },
    {
      "cell_type": "code",
      "source": [
        "# torch.permute returns a view of a tensor with dimensions rearranged in a specified order\n",
        "\n",
        "print(tensor_2d)\n",
        "tensor_info_all(tensor_2d)\n",
        "\n",
        "permuted = torch.permute(tensor_2d, [1,0])\n",
        "print(permuted)\n",
        "tensor_info_all(permuted)"
      ],
      "metadata": {
        "colab": {
          "base_uri": "https://localhost:8080/"
        },
        "id": "aTDNB1srW9Tj",
        "outputId": "32b523ad-6722-4312-c38c-0e28bab973a1"
      },
      "execution_count": 64,
      "outputs": [
        {
          "output_type": "stream",
          "name": "stdout",
          "text": [
            "tensor([[1, 2, 3]])\n",
            "shape: torch.Size([1, 3]), dimensions: 2\n",
            "dtype: torch.int64\n",
            "device: cpu\n",
            "min: 1\n",
            "max: 3\n",
            "sum: 6\n",
            "mean: wrong datatype (must be floating point or complex)\n",
            "argmin: 0\n",
            "argmax: 2\n",
            "tensor([[1],\n",
            "        [2],\n",
            "        [3]])\n",
            "shape: torch.Size([3, 1]), dimensions: 2\n",
            "dtype: torch.int64\n",
            "device: cpu\n",
            "min: 1\n",
            "max: 3\n",
            "sum: 6\n",
            "mean: wrong datatype (must be floating point or complex)\n",
            "argmin: 0\n",
            "argmax: 2\n"
          ]
        }
      ]
    },
    {
      "cell_type": "code",
      "source": [
        "# more permute examples from course\n",
        "# Example: we have image data with x/y/color_channels that we want to convert to color_channels/x/y\n",
        "\n",
        "x_original = torch.rand(size=(224,224,3))\n",
        "\n",
        "print(x_original.shape)\n",
        "\n",
        "x_permuted = torch.permute(x_original, [2, 0, 1])\n",
        "print(x_permuted.shape)"
      ],
      "metadata": {
        "colab": {
          "base_uri": "https://localhost:8080/"
        },
        "id": "oOB8imWxXwFB",
        "outputId": "b34c240d-ee46-4a9b-ff20-84b3235a201a"
      },
      "execution_count": 65,
      "outputs": [
        {
          "output_type": "stream",
          "name": "stdout",
          "text": [
            "torch.Size([224, 224, 3])\n",
            "torch.Size([3, 224, 224])\n"
          ]
        }
      ]
    },
    {
      "cell_type": "markdown",
      "source": [
        "## Indexing (selecting data from tensors\n",
        "\n",
        "- similar to indexing with numpy\n"
      ],
      "metadata": {
        "id": "3Se3IIKXZYej"
      }
    },
    {
      "cell_type": "code",
      "source": [
        "x = torch.arange(1,10).reshape(1, 3,3)\n",
        "x, x.shape"
      ],
      "metadata": {
        "colab": {
          "base_uri": "https://localhost:8080/"
        },
        "id": "fVzToiOLab0Y",
        "outputId": "cf9ef477-c743-4fa1-eab3-5b639e9f3881"
      },
      "execution_count": 66,
      "outputs": [
        {
          "output_type": "execute_result",
          "data": {
            "text/plain": [
              "(tensor([[[1, 2, 3],\n",
              "          [4, 5, 6],\n",
              "          [7, 8, 9]]]),\n",
              " torch.Size([1, 3, 3]))"
            ]
          },
          "metadata": {},
          "execution_count": 66
        }
      ]
    },
    {
      "cell_type": "code",
      "source": [
        "# index on tensor\n"
      ],
      "metadata": {
        "id": "07aUgz4BavZL"
      },
      "execution_count": 67,
      "outputs": []
    },
    {
      "cell_type": "code",
      "source": [
        "x[0, 0] # same as x[0][0]"
      ],
      "metadata": {
        "colab": {
          "base_uri": "https://localhost:8080/"
        },
        "id": "JIc_aQj9a45s",
        "outputId": "c4ff6a13-0655-42e7-f07d-aecde23591be"
      },
      "execution_count": 68,
      "outputs": [
        {
          "output_type": "execute_result",
          "data": {
            "text/plain": [
              "tensor([1, 2, 3])"
            ]
          },
          "metadata": {},
          "execution_count": 68
        }
      ]
    },
    {
      "cell_type": "code",
      "source": [
        "x[0,2,0]"
      ],
      "metadata": {
        "colab": {
          "base_uri": "https://localhost:8080/"
        },
        "id": "iVDS5Nzsa_Gb",
        "outputId": "f8e25992-fa01-440c-b284-8aa0ec56230b"
      },
      "execution_count": 69,
      "outputs": [
        {
          "output_type": "execute_result",
          "data": {
            "text/plain": [
              "tensor(7)"
            ]
          },
          "metadata": {},
          "execution_count": 69
        }
      ]
    },
    {
      "cell_type": "code",
      "source": [
        "# use \":\" to select all of a target dimension\n",
        "print(x[0,:,0]) # first column\n",
        "print(x[0,:,2]) # last column\n",
        "print(x[0,:,-1]) # also last column (but we don't have to know the actual length of the rows)\n",
        "print(x[0,:,-2]) # last minus 1 column (in our case the second column)\n",
        "print(x[0,1,:]) # get second row"
      ],
      "metadata": {
        "colab": {
          "base_uri": "https://localhost:8080/"
        },
        "id": "PpNcjErNbOez",
        "outputId": "b1b17d94-4e11-4506-8337-d9d0e8cd55f2"
      },
      "execution_count": 70,
      "outputs": [
        {
          "output_type": "stream",
          "name": "stdout",
          "text": [
            "tensor([1, 4, 7])\n",
            "tensor([3, 6, 9])\n",
            "tensor([3, 6, 9])\n",
            "tensor([2, 5, 8])\n",
            "tensor([4, 5, 6])\n"
          ]
        }
      ]
    },
    {
      "cell_type": "markdown",
      "source": [
        "## Pytorch tensors & numpy\n",
        "\n",
        "NumPy is a populy scientific computing library. PyTorch can interact with it.\n",
        "\n",
        "- data in NumPy, want PyTorch tensor: `torch.from_numpy(ndarray)`\n",
        "- PyTorch tensor to NumPy: `torch.Tensor.numpy()`\n",
        "\n",
        "PyTorch uses numpys default float64 datatype, see below, numpy uses the datatype of the given tensor (no implicit conversion)\n",
        "\n",
        "Both create a **copy** (not a view) of the original array or tensor"
      ],
      "metadata": {
        "id": "XFg4PauLfvtR"
      }
    },
    {
      "cell_type": "code",
      "source": [
        "array = np.arange(1.0, 8.0)\n",
        "tensor = torch.from_numpy(array)\n",
        "array, tensor"
      ],
      "metadata": {
        "colab": {
          "base_uri": "https://localhost:8080/"
        },
        "id": "rqa9hvV1gmNL",
        "outputId": "ab0e91ba-5244-4394-a0ee-3fa46fb8b864"
      },
      "execution_count": 71,
      "outputs": [
        {
          "output_type": "execute_result",
          "data": {
            "text/plain": [
              "(array([1., 2., 3., 4., 5., 6., 7.]),\n",
              " tensor([1., 2., 3., 4., 5., 6., 7.], dtype=torch.float64))"
            ]
          },
          "metadata": {},
          "execution_count": 71
        }
      ]
    },
    {
      "cell_type": "code",
      "source": [
        "print(array.dtype) # numpy default is float64\n",
        "print(tensor.dtype) # torch default is float32 (but is float64 here as it uses the dtype of the given numpy array)"
      ],
      "metadata": {
        "colab": {
          "base_uri": "https://localhost:8080/"
        },
        "id": "NfquzLKmgw6K",
        "outputId": "dae52ab7-97c4-4bac-f536-50101a813432"
      },
      "execution_count": 72,
      "outputs": [
        {
          "output_type": "stream",
          "name": "stdout",
          "text": [
            "float64\n",
            "torch.float64\n"
          ]
        }
      ]
    },
    {
      "cell_type": "code",
      "source": [
        "# convert to float32\n",
        "tensor = torch.from_numpy(array).type(torch.float32)\n",
        "tensor.dtype"
      ],
      "metadata": {
        "colab": {
          "base_uri": "https://localhost:8080/"
        },
        "id": "HoIS-gQhhPM6",
        "outputId": "f14d2afb-b8c4-4423-b856-c73a21389bcf"
      },
      "execution_count": 73,
      "outputs": [
        {
          "output_type": "execute_result",
          "data": {
            "text/plain": [
              "torch.float32"
            ]
          },
          "metadata": {},
          "execution_count": 73
        }
      ]
    },
    {
      "cell_type": "code",
      "source": [
        "# tensor to numpy\n",
        "tensor = torch.ones(7)\n",
        "print(tensor)\n",
        "numpy_tensor = tensor.numpy();\n",
        "tensor.dtype, numpy_tensor"
      ],
      "metadata": {
        "colab": {
          "base_uri": "https://localhost:8080/"
        },
        "id": "JFF-oKqriHUn",
        "outputId": "e7f29068-5bac-40b6-97a9-c9c547b28e36"
      },
      "execution_count": 74,
      "outputs": [
        {
          "output_type": "stream",
          "name": "stdout",
          "text": [
            "tensor([1., 1., 1., 1., 1., 1., 1.])\n"
          ]
        },
        {
          "output_type": "execute_result",
          "data": {
            "text/plain": [
              "(torch.float32, array([1., 1., 1., 1., 1., 1., 1.], dtype=float32))"
            ]
          },
          "metadata": {},
          "execution_count": 74
        }
      ]
    },
    {
      "cell_type": "markdown",
      "source": [
        "## Reproducibility\n",
        "\n",
        "A neural network learns by:\n",
        "\n",
        "- start with random numbers\n",
        "- tensor operations\n",
        "- update random numbers to make them better representations of the data\n",
        "- repeat from step 2\n",
        "\n",
        "To test / reproduce result (reduce randomness), set a random seed (basically a starting value for the pseudo-random number generator).\n",
        "\n",
        "```python\n",
        "# pytorch\n",
        "import torch\n",
        "torch.manual_seed(0)\n",
        "```\n",
        "\n",
        "Note: depending on what is used, the python and numpy random number generator may have to be seeded as well:\n",
        "\n",
        "```python\n",
        "# python\n",
        "import random\n",
        "random.seed(0)\n",
        "\n",
        "# numpy\n",
        "import numpy as np\n",
        "np.random.seed(0)\n",
        "```\n",
        "\n",
        "[more](https://pytorch.org/docs/stable/notes/randomness.html)\n",
        "\n"
      ],
      "metadata": {
        "id": "MFD1vQkrjQr-"
      }
    },
    {
      "cell_type": "code",
      "source": [
        "# random but reproducible\n",
        "\n",
        "RANDOM_SEED = 42\n",
        "torch.manual_seed(RANDOM_SEED)\n",
        "random_tensor_A = torch.rand(3,4)\n",
        "random_tensor_B = torch.rand(3,4) # still different\n",
        "\n",
        "random_tensor_A, random_tensor_B, random_tensor_A == random_tensor_B"
      ],
      "metadata": {
        "colab": {
          "base_uri": "https://localhost:8080/"
        },
        "id": "95G3_pHbj7r8",
        "outputId": "98e959e5-5d88-46d5-abff-aed500c234cc"
      },
      "execution_count": 75,
      "outputs": [
        {
          "output_type": "execute_result",
          "data": {
            "text/plain": [
              "(tensor([[0.8823, 0.9150, 0.3829, 0.9593],\n",
              "         [0.3904, 0.6009, 0.2566, 0.7936],\n",
              "         [0.9408, 0.1332, 0.9346, 0.5936]]),\n",
              " tensor([[0.8694, 0.5677, 0.7411, 0.4294],\n",
              "         [0.8854, 0.5739, 0.2666, 0.6274],\n",
              "         [0.2696, 0.4414, 0.2969, 0.8317]]),\n",
              " tensor([[False, False, False, False],\n",
              "         [False, False, False, False],\n",
              "         [False, False, False, False]]))"
            ]
          },
          "metadata": {},
          "execution_count": 75
        }
      ]
    },
    {
      "cell_type": "code",
      "source": [
        "torch.manual_seed(RANDOM_SEED)\n",
        "random_tensor_A = torch.rand(3,4)\n",
        "torch.manual_seed(RANDOM_SEED) # reseed with same seed\n",
        "random_tensor_B = torch.rand(3,4) # same as A\n",
        "\n",
        "random_tensor_A, random_tensor_B, random_tensor_A == random_tensor_B"
      ],
      "metadata": {
        "colab": {
          "base_uri": "https://localhost:8080/"
        },
        "id": "Q9_eZjZtkNV7",
        "outputId": "01134836-2182-41b5-a107-eca96e852448"
      },
      "execution_count": 76,
      "outputs": [
        {
          "output_type": "execute_result",
          "data": {
            "text/plain": [
              "(tensor([[0.8823, 0.9150, 0.3829, 0.9593],\n",
              "         [0.3904, 0.6009, 0.2566, 0.7936],\n",
              "         [0.9408, 0.1332, 0.9346, 0.5936]]),\n",
              " tensor([[0.8823, 0.9150, 0.3829, 0.9593],\n",
              "         [0.3904, 0.6009, 0.2566, 0.7936],\n",
              "         [0.9408, 0.1332, 0.9346, 0.5936]]),\n",
              " tensor([[True, True, True, True],\n",
              "         [True, True, True, True],\n",
              "         [True, True, True, True]]))"
            ]
          },
          "metadata": {},
          "execution_count": 76
        }
      ]
    },
    {
      "cell_type": "markdown",
      "source": [
        "## Running tensors and PyTorch objects on GPUs for faster computations\n",
        "\n",
        "### Getting a GPU\n",
        "\n",
        "1. Easiest - use google colab for free GPU (colab pro for faster GPUs)\n",
        "2. Use your own (requires CUDA / nvidia GPU)\n",
        "3. Cloud computing"
      ],
      "metadata": {
        "id": "yIrDdi5BmFYH"
      }
    },
    {
      "cell_type": "code",
      "source": [
        "# Check for GPU access\n",
        "!nvidia-smi"
      ],
      "metadata": {
        "colab": {
          "base_uri": "https://localhost:8080/"
        },
        "id": "1WbBd4gBrx_U",
        "outputId": "b2950580-129e-4542-a6b7-667bcac028ae"
      },
      "execution_count": 77,
      "outputs": [
        {
          "output_type": "stream",
          "name": "stdout",
          "text": [
            "Mon Jul  3 07:37:17 2023       \n",
            "+-----------------------------------------------------------------------------+\n",
            "| NVIDIA-SMI 525.85.12    Driver Version: 525.85.12    CUDA Version: 12.0     |\n",
            "|-------------------------------+----------------------+----------------------+\n",
            "| GPU  Name        Persistence-M| Bus-Id        Disp.A | Volatile Uncorr. ECC |\n",
            "| Fan  Temp  Perf  Pwr:Usage/Cap|         Memory-Usage | GPU-Util  Compute M. |\n",
            "|                               |                      |               MIG M. |\n",
            "|===============================+======================+======================|\n",
            "|   0  Tesla T4            Off  | 00000000:00:04.0 Off |                    0 |\n",
            "| N/A   40C    P8     9W /  70W |      0MiB / 15360MiB |      0%      Default |\n",
            "|                               |                      |                  N/A |\n",
            "+-------------------------------+----------------------+----------------------+\n",
            "                                                                               \n",
            "+-----------------------------------------------------------------------------+\n",
            "| Processes:                                                                  |\n",
            "|  GPU   GI   CI        PID   Type   Process name                  GPU Memory |\n",
            "|        ID   ID                                                   Usage      |\n",
            "|=============================================================================|\n",
            "|  No running processes found                                                 |\n",
            "+-----------------------------------------------------------------------------+\n"
          ]
        }
      ]
    },
    {
      "cell_type": "code",
      "source": [
        "# Check for GPU access with PyTorch\n",
        "torch.cuda.is_available()"
      ],
      "metadata": {
        "colab": {
          "base_uri": "https://localhost:8080/"
        },
        "id": "bgExIK17rre1",
        "outputId": "12f13dc7-0798-49e5-f5b8-c502e0a75d1c"
      },
      "execution_count": 79,
      "outputs": [
        {
          "output_type": "execute_result",
          "data": {
            "text/plain": [
              "True"
            ]
          },
          "metadata": {},
          "execution_count": 79
        }
      ]
    },
    {
      "cell_type": "markdown",
      "source": [
        "# Setup device agnostic code\n",
        "\n",
        "[PyTorch best practices](https://pytorch.org/docs/stable/notes/cuda.html#best-practices)"
      ],
      "metadata": {
        "id": "kUKJYM6rswGc"
      }
    },
    {
      "cell_type": "code",
      "source": [
        "device = \"cuda\" if torch.cuda.is_available() else \"cpu\"\n",
        "device"
      ],
      "metadata": {
        "colab": {
          "base_uri": "https://localhost:8080/",
          "height": 35
        },
        "id": "FKK3B1OWr_LE",
        "outputId": "512b30a6-c742-41ba-e16e-2073c1e6489c"
      },
      "execution_count": 80,
      "outputs": [
        {
          "output_type": "execute_result",
          "data": {
            "text/plain": [
              "'cuda'"
            ],
            "application/vnd.google.colaboratory.intrinsic+json": {
              "type": "string"
            }
          },
          "metadata": {},
          "execution_count": 80
        }
      ]
    },
    {
      "cell_type": "code",
      "source": [
        "# count number of devices\n",
        "\n",
        "torch.cuda.device_count()"
      ],
      "metadata": {
        "colab": {
          "base_uri": "https://localhost:8080/"
        },
        "id": "Le58opgjsTQf",
        "outputId": "fdde8978-bcf9-4814-8c69-c6d4f910d122"
      },
      "execution_count": 81,
      "outputs": [
        {
          "output_type": "execute_result",
          "data": {
            "text/plain": [
              "1"
            ]
          },
          "metadata": {},
          "execution_count": 81
        }
      ]
    },
    {
      "cell_type": "markdown",
      "source": [
        "## Putting tensors (and models) on the GPU for faster computations / tensor operations\n",
        "\n",
        "\n"
      ],
      "metadata": {
        "id": "vvNRfvvUsYi3"
      }
    },
    {
      "cell_type": "code",
      "source": [
        "# Create a tensor (default is CPU)\n",
        "\n",
        "tensor = torch.tensor([1,2,3])\n",
        "\n",
        "print(tensor, tensor.device)"
      ],
      "metadata": {
        "colab": {
          "base_uri": "https://localhost:8080/"
        },
        "id": "XoBmLOpMtPOI",
        "outputId": "82302a9e-8444-47bd-856d-29189d800c87"
      },
      "execution_count": 82,
      "outputs": [
        {
          "output_type": "stream",
          "name": "stdout",
          "text": [
            "tensor([1, 2, 3]) cpu\n"
          ]
        }
      ]
    },
    {
      "cell_type": "code",
      "source": [
        "# Move tensor to GPU (if available)\n",
        "tensor_on_gpu = tensor.to(device) # device as defined above; code will work if we only have CPU, too\n",
        "tensor_on_gpu"
      ],
      "metadata": {
        "colab": {
          "base_uri": "https://localhost:8080/"
        },
        "id": "n0we5mw6tfw-",
        "outputId": "5cd0e613-2f55-45c0-ab7d-f6c7b0c47864"
      },
      "execution_count": 83,
      "outputs": [
        {
          "output_type": "execute_result",
          "data": {
            "text/plain": [
              "tensor([1, 2, 3], device='cuda:0')"
            ]
          },
          "metadata": {},
          "execution_count": 83
        }
      ]
    },
    {
      "cell_type": "markdown",
      "source": [
        "### Moving tensors back to the CPU\n",
        "\n",
        "Why we might want to do this:\n",
        "\n",
        "- tensors on GPU can't be transformed to numpy"
      ],
      "metadata": {
        "id": "BJaKpOxyt3i8"
      }
    },
    {
      "cell_type": "code",
      "source": [
        "try:\n",
        "  tensor_on_gpu.numpy()\n",
        "except:\n",
        "  print(\"can't transform a GPU tensor to numpy\")\n",
        "\n",
        "tensor_on_gpu.cpu().numpy() # copy tensor to cpu memory first"
      ],
      "metadata": {
        "colab": {
          "base_uri": "https://localhost:8080/"
        },
        "id": "ruS7VurRuYTw",
        "outputId": "85ecc902-142e-403f-ec0c-a2f32162b548"
      },
      "execution_count": 87,
      "outputs": [
        {
          "output_type": "stream",
          "name": "stdout",
          "text": [
            "can't transform a GPU tensor to numpy\n"
          ]
        },
        {
          "output_type": "execute_result",
          "data": {
            "text/plain": [
              "array([1, 2, 3])"
            ]
          },
          "metadata": {},
          "execution_count": 87
        }
      ]
    },
    {
      "cell_type": "code",
      "source": [
        "tensor_on_cpu = tensor_on_gpu.to('cpu') # same as tensor_on_gpu.cpu()\n",
        "tensor_on_cpu.numpy()"
      ],
      "metadata": {
        "colab": {
          "base_uri": "https://localhost:8080/"
        },
        "id": "blfAxPcMuFzK",
        "outputId": "e52c2ca3-87df-46cc-9d14-6fdf2e32ca08"
      },
      "execution_count": 88,
      "outputs": [
        {
          "output_type": "execute_result",
          "data": {
            "text/plain": [
              "array([1, 2, 3])"
            ]
          },
          "metadata": {},
          "execution_count": 88
        }
      ]
    }
  ]
}