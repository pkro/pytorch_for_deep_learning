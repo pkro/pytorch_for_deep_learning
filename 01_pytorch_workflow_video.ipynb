{
  "nbformat": 4,
  "nbformat_minor": 0,
  "metadata": {
    "colab": {
      "provenance": [],
      "authorship_tag": "ABX9TyNI2UcjDTY1ariqeEAV7KeE",
      "include_colab_link": true
    },
    "kernelspec": {
      "name": "python3",
      "display_name": "Python 3"
    },
    "language_info": {
      "name": "python"
    }
  },
  "cells": [
    {
      "cell_type": "markdown",
      "metadata": {
        "id": "view-in-github",
        "colab_type": "text"
      },
      "source": [
        "<a href=\"https://colab.research.google.com/github/pkro/pytorch_for_deep_learning/blob/main/01_pytorch_workflow_video.ipynb\" target=\"_parent\"><img src=\"https://colab.research.google.com/assets/colab-badge.svg\" alt=\"Open In Colab\"/></a>"
      ]
    },
    {
      "cell_type": "markdown",
      "source": [
        "# Pytorch Workflow\n",
        "\n",
        "Explore a pytorch end-to-end workflow.\n",
        "\n",
        "Resources:\n",
        "\n",
        "https://github.com/mrdbourke/pytorch-deep-learning/blob/main/01_pytorch_workflow.ipynb\n",
        "\n",
        "https://www.learnpytorch.io/01_pytorch_workflow/\n",
        "\n",
        "https://github.com/mrdbourke/pytorch-deep-learning/discussions\n"
      ],
      "metadata": {
        "id": "XEMT9kmTXCnW"
      }
    },
    {
      "cell_type": "code",
      "source": [
        "what_were_covering = {\n",
        "    1: \"data (prepare and load)\",\n",
        "    2: \"build model\",\n",
        "    3: \"fitting the model to the data (training)\",\n",
        "    4: \"making predictions (=inference)and evaluating a model\",\n",
        "    5: \"saving and loading a model\",\n",
        "    6: \"putting it all together\"\n",
        "}\n",
        "\n",
        "what_were_covering"
      ],
      "metadata": {
        "colab": {
          "base_uri": "https://localhost:8080/"
        },
        "id": "Bt5M68QpX0DR",
        "outputId": "1aab8a26-6246-407e-e1c5-592883fd0f54"
      },
      "execution_count": 1,
      "outputs": [
        {
          "output_type": "execute_result",
          "data": {
            "text/plain": [
              "{1: 'data (prepare and load)',\n",
              " 2: 'build model',\n",
              " 3: 'fitting the model to the data (training)',\n",
              " 4: 'making predictions (=inference)and evaluating a model',\n",
              " 5: 'saving and loading a model',\n",
              " 6: 'putting it all together'}"
            ]
          },
          "metadata": {},
          "execution_count": 1
        }
      ]
    },
    {
      "cell_type": "markdown",
      "source": [
        "torch.nn is for pytorch what keras is for tensorflow (more or less).\n",
        "\n",
        "GPT:\n",
        "\n",
        ">torch.nn provides a wide range of pre-defined layers, activation functions, loss functions, and other building blocks commonly used in deep learning. These components allow you to easily define the architecture of your neural network and specify how the data flows through the network.\n",
        ">\n",
        ">Similarly, Keras is a high-level neural networks API that provides a simplified and user-friendly interface for building and training neural networks. It also offers a wide range of pre-defined layers, activation functions, and loss functions, among other features. Keras is often praised for its ease of use and its ability to quickly prototype and experiment with different network architectures.\n",
        "\n",
        "https://pytorch.org/docs/stable/nn.html"
      ],
      "metadata": {
        "id": "QjXUmk-PZJlb"
      }
    },
    {
      "cell_type": "code",
      "source": [
        "import torch\n",
        "from torch import nn # nn contains all of PyTorch's building blocks for neural networks / graphs\n",
        "import matplotlib.pyplot as plt"
      ],
      "metadata": {
        "id": "zJw6L3oeYZI3"
      },
      "execution_count": 2,
      "outputs": []
    },
    {
      "cell_type": "markdown",
      "source": [
        "## Data (preparing and loading)\n",
        "\n",
        "Data can be almost anything in machine learning.\n",
        "\n",
        "- Excel spreadsheet\n",
        "- Images\n",
        "- Videos\n",
        "- Audio\n",
        "- DNA\n",
        "- Text\n",
        "\n",
        "Machine learning is a game of two parts:\n",
        "\n",
        "1. Get data into a numerical representation\n",
        "2. Build a model to learn patterns in that numerical representation\n",
        "\n",
        "Let's create some *known* data using the linear [regression formula](https://www.google.com/search?q=linear+regression+formula)\n",
        "\n",
        "![linear regression formula](./readme_images/linreg_formula.png)\n",
        "\n",
        "Linear regression is a statistical modeling technique used to establish a relationship between a dependent variable and one or more independent variables. It assumes a linear relationship between the independent variables and the dependent variable. The general formula for linear regression can be expressed as follows:\n",
        "\n",
        "y = β0 + β1 * x1 + β2 * x2 + ... + βn * xn + ε\n",
        "\n",
        "In this formula:\n",
        "\n",
        "- y is the dependent variable (the variable we want to predict or explain).\n",
        "- x1, x2, ..., xn are the independent variables (also known as features or predictors).\n",
        "- β0, β1, β2, ..., βn are the coefficients (parameters) that represent the slope or weight of each independent variable. β0 is the intercept term.\n",
        "- ε represents the error term, which accounts for the variability in the dependent variable that is not explained by the independent variables."
      ],
      "metadata": {
        "id": "ACdnwxC2Z0Uo"
      }
    },
    {
      "cell_type": "code",
      "source": [],
      "metadata": {
        "id": "gFsmIz_wZVch"
      },
      "execution_count": 2,
      "outputs": []
    }
  ]
}